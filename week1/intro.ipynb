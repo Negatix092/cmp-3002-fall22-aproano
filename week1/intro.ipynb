{
 "cells": [
  {
   "cell_type": "markdown",
   "id": "d390d413",
   "metadata": {
    "slideshow": {
     "slide_type": "slide"
    }
   },
   "source": [
    "# CMP 3002 \n",
    "## Introduction to algorithms"
   ]
  },
  {
   "cell_type": "markdown",
   "id": "927d7adf",
   "metadata": {
    "slideshow": {
     "slide_type": "slide"
    }
   },
   "source": [
    "## Housekeeping\n",
    "\n",
    "- Download and install Anaconda and Git\n"
   ]
  },
  {
   "cell_type": "markdown",
   "id": "a5f7fcf6",
   "metadata": {
    "slideshow": {
     "slide_type": "slide"
    }
   },
   "source": [
    "## The Transformation Hierarchy\n",
    "\n",
    "![](../images/computation_model.png)"
   ]
  },
  {
   "cell_type": "markdown",
   "id": "18a90cac",
   "metadata": {
    "slideshow": {
     "slide_type": "slide"
    }
   },
   "source": [
    "## Introduction to Algorithms \n",
    "\n",
    "### [Al-Khwarizmi](https://en.wikipedia.org/wiki/Muhammad_ibn_Musa_al-Khwarizmi)\n",
    "\n",
    "- One of the founders of Algebra\n",
    "- Introduced techniques to solve linear and quadratic equations "
   ]
  },
  {
   "cell_type": "markdown",
   "id": "0a4578bc",
   "metadata": {
    "slideshow": {
     "slide_type": "subslide"
    }
   },
   "source": [
    "### What is an Algorithm?\n",
    "\n",
    "```\n",
    "- A procedure for solving a mathematical problem (as of finding the greatest common divisor) \n",
    "in a finite number of steps that frequently involves repetition of an operation\n",
    "```\n",
    "```\n",
    "- Broadly : a step-by-step procedure for solving a problem or accomplishing some end\n",
    "```\n",
    "\n",
    "### In computational terms:\n",
    "\n",
    "- A mathematical abstraction of a computer program\n",
    "- A computational process to solve a problem.\n",
    "\n",
    "input -> algorithm -> output\n",
    "\n",
    "\n"
   ]
  },
  {
   "cell_type": "markdown",
   "id": "5abf1574",
   "metadata": {
    "slideshow": {
     "slide_type": "subslide"
    }
   },
   "source": [
    "### Analogies (Math / computers)\n",
    "\n",
    "program -> algorithm\n",
    "\n",
    "language -> pseudocode\n",
    "\n",
    "computer -> model of computation"
   ]
  },
  {
   "cell_type": "markdown",
   "id": "f0722605",
   "metadata": {
    "slideshow": {
     "slide_type": "slide"
    }
   },
   "source": [
    "## Model of computation\n",
    "\n",
    "- Specifies the operations you can do in an algorithm\n",
    "- How much these operations cost (time, memory, etc). We look how much each operation costs and add them up to get the total cost of the algorithm\n",
    "- Can be thought as styles of programming (ex: object oriented programming)\n",
    "\n",
    "We'll cover two models of computation: random access machine and pointer machine"
   ]
  },
  {
   "cell_type": "markdown",
   "id": "c821ae3b",
   "metadata": {
    "slideshow": {
     "slide_type": "subslide"
    }
   },
   "source": [
    "### Random access machine (RAM) \n",
    "\n",
    "- Single processor (operations are executed one after the other)\n",
    "- Modeled by a big array\n",
    "- It has constant number of registers\n",
    "- Realistic and powerful model\n",
    "![plot](../images/ram.png)"
   ]
  },
  {
   "cell_type": "markdown",
   "id": "8810d28d",
   "metadata": {
    "slideshow": {
     "slide_type": "subslide"
    }
   },
   "source": [
    "It allows us to compare algorithms on a performance basis. \n",
    "\n",
    "- Each operation takes 1 time steps (write or read)\n",
    "- Needs to know where the words are to access them\n",
    "- A word is an x number of bits\n"
   ]
  },
  {
   "cell_type": "markdown",
   "id": "5f5bb091",
   "metadata": {
    "slideshow": {
     "slide_type": "subslide"
    }
   },
   "source": [
    "### Pointer machine\n",
    "\n",
    "- Simple version of object oriented programming \n",
    "- Dynamically allocated objects (create and destroy)\n",
    "- Objects have a constant number of fields\n",
    "- Field is either a word or a pointer\n",
    "- Pointer either points to an object or is null (none in Python)\n",
    "- Adding values takes 1 time steps\n",
    "- Following a pointer takes 1 time steps\n",
    "\n",
    "Linked list example:\n",
    "\n",
    "[3] ---> [4] ---> null\n",
    "\n",
    "Weaker model than RAM since you can build this model with RAM (how?)"
   ]
  },
  {
   "cell_type": "markdown",
   "id": "a246e591",
   "metadata": {
    "slideshow": {
     "slide_type": "slide"
    }
   },
   "source": [
    "## Python model\n",
    "\n",
    "Python offers both perspectives (RAM and pointer machine)\n",
    "\n",
    "1. Python lists are arrays (RAM)\n",
    "```\n",
    "L[i] = L[i] + 1\n",
    "```\n",
    "\n",
    "2. Objects with a constant number of attributes (pointer machine)\n",
    "\n",
    "```\n",
    "x.val\n",
    "x.next()\n",
    "```\n",
    "\n",
    "Both operations take constant time (finite number of time steps)"
   ]
  },
  {
   "cell_type": "markdown",
   "id": "fe05beed",
   "metadata": {
    "slideshow": {
     "slide_type": "slide"
    }
   },
   "source": [
    "## Introduction to Python "
   ]
  },
  {
   "cell_type": "markdown",
   "id": "57c0758d",
   "metadata": {
    "slideshow": {
     "slide_type": "slide"
    }
   },
   "source": [
    "### Comments"
   ]
  },
  {
   "cell_type": "code",
   "execution_count": 6,
   "id": "9bcc2990",
   "metadata": {
    "slideshow": {
     "slide_type": "subslide"
    }
   },
   "outputs": [],
   "source": [
    "# This is a one-line Python comment - code blocks are so useful!\n",
    "\n",
    "\"\"\"\n",
    "This type of comment is used to document the purpose of functions and classes.\n",
    "\"\"\"\n",
    "\n",
    "def sum1(x,y):\n",
    "    \"\"\"\n",
    "    inputs\n",
    "        - x: int\n",
    "        - y: int\n",
    "    returns\n",
    "        - x + y: int \n",
    "    \"\"\"\n",
    "    return x+y\n",
    "\n",
    "?sum1"
   ]
  },
  {
   "cell_type": "markdown",
   "id": "5b597877",
   "metadata": {
    "slideshow": {
     "slide_type": "slide"
    }
   },
   "source": [
    "### Declaration/Initialization"
   ]
  },
  {
   "cell_type": "code",
   "execution_count": 15,
   "id": "a221e5f2",
   "metadata": {
    "slideshow": {
     "slide_type": "subslide"
    }
   },
   "outputs": [
    {
     "name": "stdout",
     "output_type": "stream",
     "text": [
      "1.125\n",
      "1.0\n",
      "The answer is 42.\n"
     ]
    }
   ],
   "source": [
    "# Values have data types, not variables\n",
    "# A variable can be reassigned to contain a different data type.\n",
    "a = 4.5\n",
    "b = 4\n",
    "answer = \"The answer is 42.\"\n",
    "\n",
    "print(a/b)\n",
    "print(a//b)\n",
    "\n",
    "print(answer)"
   ]
  },
  {
   "cell_type": "markdown",
   "id": "6d860c54",
   "metadata": {
    "slideshow": {
     "slide_type": "slide"
    }
   },
   "source": [
    "### Data types"
   ]
  },
  {
   "cell_type": "code",
   "execution_count": 10,
   "id": "571becbf",
   "metadata": {
    "slideshow": {
     "slide_type": "subslide"
    }
   },
   "outputs": [],
   "source": [
    "boolean = True\n",
    "number = 1.1\n",
    "string = \"Strings can be declared with single or double quotes.\"\n",
    "list = [\"Lists can have\", 1, 2, 3, False, \"or more types together!\"]\n",
    "tuple = (\"Tuples\", \"can have\", \"more than\", 2, \"elements!\")\n",
    "dictionary = {'one': 1, 'two': 2, 'three': 3}\n",
    "variable_with_zero_data = None\n",
    "\n",
    "list[4]\n",
    "dictionary['one']"
   ]
  },
  {
   "cell_type": "markdown",
   "id": "35135d42",
   "metadata": {
    "slideshow": {
     "slide_type": "slide"
    }
   },
   "source": [
    "### Simple logging"
   ]
  },
  {
   "cell_type": "code",
   "execution_count": 18,
   "id": "efd80fae",
   "metadata": {
    "slideshow": {
     "slide_type": "subslide"
    }
   },
   "outputs": [
    {
     "name": "stdout",
     "output_type": "stream",
     "text": [
      "the value of x:3 and c:2\n",
      "4\n",
      "I was here and this happened\n"
     ]
    }
   ],
   "source": [
    "def sum1(x,y):\n",
    "    c = x-1\n",
    "    print(\"the value of x:{} and c:{}\".format(x,c))\n",
    "    return y+c\n",
    "\n",
    "print(sum1(3,2))\n",
    "\n",
    "\n",
    "print(\"I was here and this happened\")"
   ]
  },
  {
   "cell_type": "markdown",
   "id": "0f388719",
   "metadata": {
    "slideshow": {
     "slide_type": "slide"
    }
   },
   "source": [
    "### Conditionals "
   ]
  },
  {
   "cell_type": "code",
   "execution_count": 15,
   "id": "1c02013f",
   "metadata": {
    "slideshow": {
     "slide_type": "subslide"
    }
   },
   "outputs": [
    {
     "name": "stdout",
     "output_type": "stream",
     "text": [
      "MJ 08:30-09:50\n"
     ]
    }
   ],
   "source": [
    "# class_code = \"none\"\n",
    "# class_code = \"cmp-3002\"\n",
    "class_code = \"cmp-5006\"\n",
    "\n",
    "if class_code == \"cmp-3002\":\n",
    "    print(\"MI 10:00-11:20\")\n",
    "elif class_code == \"cmp-5006\":\n",
    "    print(\"MJ 08:30-09:50\")\n",
    "else:\n",
    "    print(\"Don't know\")"
   ]
  },
  {
   "cell_type": "markdown",
   "id": "e542e3f4",
   "metadata": {
    "slideshow": {
     "slide_type": "slide"
    }
   },
   "source": [
    "### Loops"
   ]
  },
  {
   "cell_type": "code",
   "execution_count": 23,
   "id": "d717547c",
   "metadata": {
    "slideshow": {
     "slide_type": "subslide"
    }
   },
   "outputs": [
    {
     "name": "stdout",
     "output_type": "stream",
     "text": [
      "a\n",
      "1\n",
      "b\n",
      "13\n",
      "True\n",
      "------------------------\n",
      "1\n",
      "2\n",
      "3\n",
      "4\n",
      "5\n",
      "6\n",
      "7\n",
      "8\n",
      "9\n",
      "(1, 2, 3, 4, 5, 6, 7, 8, 9)\n",
      "------------------------\n",
      "total = 10\n"
     ]
    }
   ],
   "source": [
    "for item in ['a', 1, 'b', 13, True]:\n",
    "    print(item)\n",
    "    \n",
    "print('------------------------')    \n",
    "    \n",
    "for num in range(1,10):\n",
    "    print(num)\n",
    "\n",
    "print(tuple(range(1,10)))\n",
    "print('------------------------')\n",
    "\n",
    "total = 0\n",
    "max_val = 10\n",
    "while (total < max_val):\n",
    "    total += 2\n",
    "print(\"total =\", total)"
   ]
  },
  {
   "cell_type": "markdown",
   "id": "61891bb7",
   "metadata": {
    "slideshow": {
     "slide_type": "slide"
    }
   },
   "source": [
    "### Functions"
   ]
  },
  {
   "cell_type": "code",
   "execution_count": 30,
   "id": "4357fd66",
   "metadata": {
    "slideshow": {
     "slide_type": "subslide"
    }
   },
   "outputs": [
    {
     "name": "stdout",
     "output_type": "stream",
     "text": [
      "Q: 7 , R: 0\n",
      "Q: 2 , R: 2\n"
     ]
    }
   ],
   "source": [
    "def divide(dividend, divisor=1):\n",
    "    quotient = dividend // divisor\n",
    "    remainder = dividend % divisor\n",
    "    return quotient, remainder\n",
    "\n",
    "def calculate_stuff(x, y=1):\n",
    "    (q, r) = divide(x,y)\n",
    "    print(\"Q:\", q, \", R:\", r)\n",
    "    \n",
    "calculate_stuff(7)\n",
    "calculate_stuff(8,3)\n"
   ]
  },
  {
   "cell_type": "markdown",
   "id": "56cbbcdc",
   "metadata": {
    "slideshow": {
     "slide_type": "slide"
    }
   },
   "source": [
    "## Git\n",
    "\n",
    "- Distributed version control system\n",
    "- Created by Linus Torvalds (creator of Linux)\n",
    "\n",
    "thesis.pdf, thesis_v1.pdf, ..., thesis_final.pdf"
   ]
  },
  {
   "cell_type": "markdown",
   "id": "347dd301",
   "metadata": {
    "slideshow": {
     "slide_type": "slide"
    }
   },
   "source": [
    "### Version control system\n",
    "\n",
    "- Software that automatically maintains records of all the changes made to a project\n",
    "- Allows teams to work and modify different parts of a project concurrently"
   ]
  },
  {
   "cell_type": "markdown",
   "id": "24b75d2f",
   "metadata": {
    "slideshow": {
     "slide_type": "slide"
    }
   },
   "source": [
    "### Main Git concepts\n",
    "\n",
    "- **Repository:** A folder being tracked by Git\n",
    "- **Cloning:** Downloads a repository on your computer from the server\n",
    "- **Staging area:** It a drafting space, where you can add the version of a file or files you want to commit\n",
    "- **Commit:** Git takes a snapshot of the project once the staging area files are commited\n",
    "- **Push:** Upload the files to the server\n",
    "- **Pull:** Download new files that are modified by someone else"
   ]
  },
  {
   "cell_type": "markdown",
   "id": "672e27db",
   "metadata": {
    "slideshow": {
     "slide_type": "slide"
    }
   },
   "source": [
    "### Git commands\n",
    "\n",
    "```\n",
    "# cloning\n",
    "git clone repo_url\n",
    "\n",
    "# adding to staging area\n",
    "git add file\n",
    "\n",
    "# commit \n",
    "git commit -m \"I did a change\"\n",
    "\n",
    "# push\n",
    "git push\n",
    "\n",
    "# pull\n",
    "git pull\n",
    "```"
   ]
  },
  {
   "cell_type": "markdown",
   "id": "4e6b1962",
   "metadata": {
    "slideshow": {
     "slide_type": "slide"
    }
   },
   "source": [
    "## Exercise 1\n",
    "\n",
    "- Create an account in GitHub\n",
    "- Create a public repo for your class work (repo names are unique)\n",
    "\n"
   ]
  },
  {
   "cell_type": "markdown",
   "id": "2ddfca00",
   "metadata": {
    "slideshow": {
     "slide_type": "slide"
    }
   },
   "source": [
    "### Exercise 2\n",
    "- Write a function that takes calculates the sum of numbers from 1 to *n*, where *n* is the input\n",
    "- Use a loop to do this\n",
    "- Count the number of operations this function takes\n",
    "- Clone your new repo\n",
    "- New folder \"class_exercise_1\"\n",
    "- commit and push the code to your repo\n",
    "\n",
    "https://git-scm.com/book/en/v2/Appendix-A:-Git-in-Other-Environments-Git-in-PowerShell\n",
    "\n",
    "```\n",
    "git clone https://github.com/aproano2/cmp-3002-fall22-aproano\n",
    "```\n",
    "```\n",
    "def numbers(n):\n",
    "    start = 0                         # 1 read\n",
    "    for number in range(1,n+1):       # 1 read, 1 write\n",
    "        start = start + number        # 2 reads, 1 write  |  5 ops in loop\n",
    "    print(start)                      # 1 read\n",
    "        \n",
    "numbers(9)                            # 1 read\n",
    "```\n",
    "\n",
    "Total number of operations: \n",
    "$5 \\times n + 2$\n",
    "\n",
    "\n",
    "```\n",
    "def numbers(n):\n",
    "    start = 0                         # 1 pm\n",
    "    for number in range(1,n+1):       # 1 pm, n pm\n",
    "        start = start + number        # -\n",
    "    print(start)                      # -\n",
    "        \n",
    "numbers(9)                            # -\n",
    "```\n",
    "\n",
    "Total memory used:\n",
    "\n",
    "$n + 2$"
   ]
  },
  {
   "cell_type": "markdown",
   "id": "d483c3fb",
   "metadata": {
    "slideshow": {
     "slide_type": "slide"
    }
   },
   "source": [
    "### Exercise 3\n",
    "- Repeat the exercise using a more efficient way\n",
    "- Count the number of operations this function takes\n",
    "\n",
    "```\n",
    "def sum2(n):\n",
    "\n",
    "    return n * (n+1) / 2      # 2 reads, 1 write\n",
    "```\n",
    "\n",
    "Execution time: \n",
    "\n",
    "$3$\n",
    "\n",
    "\n",
    "```\n",
    "def sum2(n):\n",
    "\n",
    "    return n * (n+1) / 2      # 1 pm, 1 pm\n",
    "```\n",
    "\n",
    "Total memory:\n",
    "\n",
    "$2$"
   ]
  },
  {
   "cell_type": "markdown",
   "id": "4d74c06a",
   "metadata": {
    "slideshow": {
     "slide_type": "slide"
    }
   },
   "source": [
    "### Exercise 4\n",
    "- Given a list \n",
    "```['a', 'b', 'd', 'g', 'm', 'r']```\n",
    "- Write a function that takes an element as input and returns the index of the element\n",
    "- Use loops and conditionals\n",
    "- Count the number of operations this function takes\n"
   ]
  },
  {
   "cell_type": "markdown",
   "id": "82fb8f1a",
   "metadata": {
    "slideshow": {
     "slide_type": "slide"
    }
   },
   "source": [
    "### Exercise 5\n",
    "- Repeat the exercise using a more efficient way\n",
    "- Count the number of operations this function takes"
   ]
  },
  {
   "cell_type": "code",
   "execution_count": null,
   "id": "545b30d8",
   "metadata": {},
   "outputs": [],
   "source": []
  }
 ],
 "metadata": {
  "celltoolbar": "Slideshow",
  "kernelspec": {
   "display_name": "Python 3",
   "language": "python",
   "name": "python3"
  },
  "language_info": {
   "codemirror_mode": {
    "name": "ipython",
    "version": 3
   },
   "file_extension": ".py",
   "mimetype": "text/x-python",
   "name": "python",
   "nbconvert_exporter": "python",
   "pygments_lexer": "ipython3",
   "version": "3.8.8"
  }
 },
 "nbformat": 4,
 "nbformat_minor": 5
}
