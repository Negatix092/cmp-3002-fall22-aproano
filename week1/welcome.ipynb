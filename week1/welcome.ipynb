{
 "cells": [
  {
   "cell_type": "markdown",
   "id": "a219be7a",
   "metadata": {
    "slideshow": {
     "slide_type": "slide"
    }
   },
   "source": [
    "# CMP 3002 \n",
    "## Estructuras de Datos"
   ]
  },
  {
   "cell_type": "markdown",
   "id": "bd2f2e36",
   "metadata": {
    "slideshow": {
     "slide_type": "slide"
    }
   },
   "source": [
    "## Introduction\n",
    "\n",
    "- Name\n",
    "- Areas of interest in CS\n",
    "- Something interesting you did this summer"
   ]
  },
  {
   "cell_type": "markdown",
   "id": "ba6969f1",
   "metadata": {
    "slideshow": {
     "slide_type": "slide"
    }
   },
   "source": [
    "## Motivation"
   ]
  },
  {
   "cell_type": "markdown",
   "id": "ff9de5e5",
   "metadata": {
    "slideshow": {
     "slide_type": "subslide"
    }
   },
   "source": [
    "## What are we going to study?\n",
    "\n",
    "1. **Algorithms:** methods for solving a problem\n",
    "2. **Data Structures:** methods for storing information\n",
    "\n",
    "- They go together to allow us solving complex problems\n",
    "- We'll cover multiple basic data structures and algorithms that focus on:\n",
    "    - search\n",
    "    - sort\n",
    "    - traverse graphs"
   ]
  },
  {
   "cell_type": "markdown",
   "id": "27019b97",
   "metadata": {
    "slideshow": {
     "slide_type": "subslide"
    }
   },
   "source": [
    "## Why do we study algorithms?\n",
    "\n",
    "- They are the foundation of software engineering\n",
    "- We enocunter them in multiple areas:\n",
    "    - security\n",
    "    - physics\n",
    "    - biology\n",
    "    - data science\n",
    "    - machine learning\n",
    "    - artificial intelligence\n",
    "    - many others\n",
    "    "
   ]
  },
  {
   "cell_type": "markdown",
   "id": "c5a2fee7",
   "metadata": {
    "slideshow": {
     "slide_type": "subslide"
    }
   },
   "source": [
    "### Professional applications\n",
    "\n",
    "- It's fundamental to know algorithms and data structures to write good software and understand professionally written code\n",
    "- Additionally, we are going to get familiar with a couple of tools used by professionals to share code "
   ]
  },
  {
   "cell_type": "markdown",
   "id": "b0d10252",
   "metadata": {
    "slideshow": {
     "slide_type": "slide"
    }
   },
   "source": [
    "## Syllabus"
   ]
  }
 ],
 "metadata": {
  "celltoolbar": "Slideshow",
  "kernelspec": {
   "display_name": "Python 3",
   "language": "python",
   "name": "python3"
  },
  "language_info": {
   "codemirror_mode": {
    "name": "ipython",
    "version": 3
   },
   "file_extension": ".py",
   "mimetype": "text/x-python",
   "name": "python",
   "nbconvert_exporter": "python",
   "pygments_lexer": "ipython3",
   "version": "3.8.8"
  }
 },
 "nbformat": 4,
 "nbformat_minor": 5
}
