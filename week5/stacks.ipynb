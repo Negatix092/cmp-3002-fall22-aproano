{
 "cells": [
  {
   "cell_type": "code",
   "execution_count": 1,
   "id": "5acb4fe5",
   "metadata": {
    "slideshow": {
     "slide_type": "skip"
    }
   },
   "outputs": [],
   "source": [
    "import time\n",
    "import pandas as pd\n",
    "import numpy as np\n",
    "import matplotlib.pyplot as plt\n",
    "%matplotlib inline  "
   ]
  },
  {
   "cell_type": "markdown",
   "id": "a41bb501",
   "metadata": {
    "slideshow": {
     "slide_type": "slide"
    }
   },
   "source": [
    "# CMP 3002 \n",
    "## Stacks and Queues"
   ]
  },
  {
   "cell_type": "markdown",
   "id": "d23f2a16",
   "metadata": {
    "slideshow": {
     "slide_type": "slide"
    }
   },
   "source": [
    "## Questions?"
   ]
  },
  {
   "cell_type": "markdown",
   "id": "927a904f",
   "metadata": {
    "slideshow": {
     "slide_type": "slide"
    }
   },
   "source": [
    "## Stacks and Queues"
   ]
  },
  {
   "cell_type": "markdown",
   "id": "76c1a46f",
   "metadata": {
    "slideshow": {
     "slide_type": "slide"
    }
   },
   "source": [
    "### Exercise\n",
    "\n",
    "Input: string `s` containing just the characters `(`, `)`, `{`, `}`, `[` and `]`, determine if `s` follows the rules:\n",
    "\n",
    "- Open brackets must be closed by the same type of brackets.\n",
    "- Open brackets must be closed in the correct order.\n",
    "\n",
    "Ex: `s = '[](){[()]}'`\n",
    "\n",
    "`s1 = {()][}`\n",
    "\n",
    "3 + 5 * 5 + 2 = 30\n",
    "\n",
    "(3 + 5 )* 5 + 2 = 42\n",
    "\n",
    "[3 + 5] * [5 + 2] = 56"
   ]
  },
  {
   "cell_type": "markdown",
   "id": "486c0a3b",
   "metadata": {
    "slideshow": {
     "slide_type": "subslide"
    }
   },
   "source": [
    "### Stacks and queues\n",
    "\n",
    "Linear data structures:\n",
    "- Stacks follow the principle Last In First Out (LIFO)\n",
    "- The last element inserted inside the stack is removed first\n",
    "- Example: pile of plates on top of another"
   ]
  },
  {
   "cell_type": "markdown",
   "id": "d6663c97",
   "metadata": {
    "slideshow": {
     "slide_type": "subslide"
    }
   },
   "source": [
    "### How can we implement a `class` stack in Python?"
   ]
  },
  {
   "cell_type": "code",
   "execution_count": 2,
   "id": "7432a015",
   "metadata": {
    "slideshow": {
     "slide_type": "subslide"
    }
   },
   "outputs": [],
   "source": [
    "# We can use the same implementation we used for Arrays\n",
    "import ctypes\n",
    "class Stack(object):\n",
    "    \"\"\"\n",
    "    Implementation of the stack data structure\n",
    "    \"\"\"\n",
    "\n",
    "    def __init__(self, n):\n",
    "        self.l = 0\n",
    "        self.n = n\n",
    "        self.stack = self._create_stack(self.n)        \n",
    "    \n",
    "    def _create_stack(self, n):\n",
    "        \"\"\"\n",
    "        Creates a new stack of capacity n\n",
    "        \"\"\"\n",
    "        return (n * ctypes.py_object)()"
   ]
  },
  {
   "cell_type": "markdown",
   "id": "ee33aea5",
   "metadata": {
    "slideshow": {
     "slide_type": "slide"
    }
   },
   "source": [
    "### Operations\n",
    "\n",
    "- **push(item)** - store an element on the stack\n",
    "- **pop()** - remove an element from the stack\n",
    "- **top()** - get the top data element of the stack, without removing it\n",
    "- **full()** - check if stack is full\n",
    "- **empty()** - check if the stack is empty\n",
    "- **size()** - return the size of the stack\n",
    "\n",
    "All operations take $O(1)$\n"
   ]
  },
  {
   "cell_type": "code",
   "execution_count": 3,
   "id": "1396a2b8",
   "metadata": {
    "slideshow": {
     "slide_type": "subslide"
    }
   },
   "outputs": [],
   "source": [
    "class Stack(Stack):\n",
    "    def push(self, item):\n",
    "        \"\"\"\n",
    "        Add new item to the stack\n",
    "        \"\"\"\n",
    "        if self.l == self.n:\n",
    "            raise ValueError(\"no more capacity\")\n",
    "        self.stack[self.l] = item\n",
    "        self.l += 1"
   ]
  },
  {
   "cell_type": "code",
   "execution_count": 4,
   "id": "52acf4eb",
   "metadata": {
    "slideshow": {
     "slide_type": "subslide"
    }
   },
   "outputs": [],
   "source": [
    "class Stack(Stack):\n",
    "    def pop(self):\n",
    "        \"\"\"\n",
    "        Remove an element from the stack\n",
    "        \"\"\"\n",
    "        # self.l = 0\n",
    "        # 0 is equivalent to False\n",
    "        # any number != 0 is True\n",
    "        if not self.l:\n",
    "            raise('stack is empty')\n",
    "        c = self.stack[self.l-1]\n",
    "        self.stack[self.l] = ctypes.py_object\n",
    "        self.l -= 1\n",
    "        return c\n",
    "    "
   ]
  },
  {
   "cell_type": "code",
   "execution_count": 5,
   "id": "ab9dd219",
   "metadata": {
    "slideshow": {
     "slide_type": "subslide"
    }
   },
   "outputs": [],
   "source": [
    "class Stack(Stack):\n",
    "    def top(self):\n",
    "        \"\"\"\n",
    "        Show the top element of the stack\n",
    "        \"\"\"\n",
    "        return self.stack[self.l-1]"
   ]
  },
  {
   "cell_type": "code",
   "execution_count": 6,
   "id": "a85c0fe2",
   "metadata": {
    "slideshow": {
     "slide_type": "subslide"
    }
   },
   "outputs": [],
   "source": [
    "class Stack(Stack):\n",
    "    def full(self):\n",
    "        \"\"\"\n",
    "        Is the stack full?\n",
    "        \"\"\"\n",
    "        return self.l == self.n\n",
    "        # if self.l == self.n:\n",
    "        #    return True\n",
    "        # return False\n",
    "\n",
    "    def empty(self):\n",
    "        \"\"\"\n",
    "        Is the stack empty?\n",
    "        \"\"\"\n",
    "        return self.l == 0\n",
    "        #if self.l == 0:\n",
    "        #    return True\n",
    "        #return False\n",
    "\n",
    "    def size(self):\n",
    "        \"\"\"\n",
    "        Return size of the stack\n",
    "        \"\"\"\n",
    "        return self.l"
   ]
  },
  {
   "cell_type": "code",
   "execution_count": 7,
   "id": "57f2e062",
   "metadata": {
    "slideshow": {
     "slide_type": "subslide"
    }
   },
   "outputs": [],
   "source": [
    "S = Stack(10)"
   ]
  },
  {
   "cell_type": "code",
   "execution_count": 8,
   "id": "6b133207",
   "metadata": {
    "slideshow": {
     "slide_type": "subslide"
    }
   },
   "outputs": [],
   "source": [
    "S.push(1)\n",
    "S.push(2)\n",
    "S.push(4)\n",
    "S.push(-1)"
   ]
  },
  {
   "cell_type": "code",
   "execution_count": 9,
   "id": "d083a556",
   "metadata": {
    "slideshow": {
     "slide_type": "subslide"
    }
   },
   "outputs": [
    {
     "data": {
      "text/plain": [
       "4"
      ]
     },
     "execution_count": 9,
     "metadata": {},
     "output_type": "execute_result"
    }
   ],
   "source": [
    "\n",
    "S.size()"
   ]
  },
  {
   "cell_type": "code",
   "execution_count": 24,
   "id": "c62a1359",
   "metadata": {
    "slideshow": {
     "slide_type": "subslide"
    }
   },
   "outputs": [
    {
     "data": {
      "text/plain": [
       "1"
      ]
     },
     "execution_count": 24,
     "metadata": {},
     "output_type": "execute_result"
    }
   ],
   "source": [
    "S.pop()"
   ]
  },
  {
   "cell_type": "code",
   "execution_count": 23,
   "id": "dfac6116",
   "metadata": {
    "slideshow": {
     "slide_type": "subslide"
    }
   },
   "outputs": [
    {
     "data": {
      "text/plain": [
       "False"
      ]
     },
     "execution_count": 23,
     "metadata": {},
     "output_type": "execute_result"
    }
   ],
   "source": [
    "S.full()"
   ]
  },
  {
   "cell_type": "code",
   "execution_count": 25,
   "id": "869509ce",
   "metadata": {
    "slideshow": {
     "slide_type": "subslide"
    }
   },
   "outputs": [
    {
     "data": {
      "text/plain": [
       "True"
      ]
     },
     "execution_count": 25,
     "metadata": {},
     "output_type": "execute_result"
    }
   ],
   "source": [
    "\n",
    "S.empty()"
   ]
  },
  {
   "cell_type": "markdown",
   "id": "1a45d8f3",
   "metadata": {
    "slideshow": {
     "slide_type": "slide"
    }
   },
   "source": [
    "## Housekeeping\n",
    "\n",
    "- Homework\n",
    "\n",
    "1. Define the proper high-level software components required for the implementation of an optimal computational solution in terms of development time, expense, and needed labor\n",
    "    - Make sure your funtions can be reused in future assignments\n",
    "    - Function to measure execution time (Hint: use Python decorators)\n",
    "    - https://www.geeksforgeeks.org/timing-functions-with-decorators-python/\n",
    "2. Design each associated software component for probable future extensions and modifications using the industry’s best practices to guarantee flexibility and robustness\n",
    "    - Usen GitHub\n",
    "    - Make sure you have documentation in GitHub\n",
    "    - Add docstrings and comments to document your code\n",
    "3. Define the appropriate algorithms and data structures to optimize the implementation of the expected functionality of each software module.\n",
    "    - Use the most efficient data structure\n",
    "    \n",
    "    \n",
    "    \n",
    "```\n",
    "def func():\n",
    "    start = time.time()\n",
    "    # do something\n",
    "    end = time.time()\n",
    "    \n",
    "    execution_time = end - start\n",
    "\n",
    "@calculate_time\n",
    "def func1():\n",
    "    # do something\n",
    "```"
   ]
  },
  {
   "cell_type": "markdown",
   "id": "91f2a50d",
   "metadata": {
    "slideshow": {
     "slide_type": "slide"
    }
   },
   "source": [
    "### Exercise\n",
    "\n",
    "Input: string `s` containing just the characters `(`, `)`, `{`, `}`, `[` and `]`, determine if `s` follows the rules:\n",
    "\n",
    "- Open brackets must be closed by the same type of brackets.\n",
    "- Open brackets must be closed in the correct order."
   ]
  },
  {
   "cell_type": "code",
   "execution_count": 16,
   "id": "24299a0f",
   "metadata": {
    "slideshow": {
     "slide_type": "subslide"
    }
   },
   "outputs": [
    {
     "data": {
      "text/plain": [
       "True"
      ]
     },
     "execution_count": 16,
     "metadata": {},
     "output_type": "execute_result"
    }
   ],
   "source": [
    "s = \"()\"\n",
    "check_brackets(s)"
   ]
  },
  {
   "cell_type": "code",
   "execution_count": 26,
   "id": "6f0e6701",
   "metadata": {
    "slideshow": {
     "slide_type": "subslide"
    }
   },
   "outputs": [
    {
     "data": {
      "text/plain": [
       "False"
      ]
     },
     "execution_count": 26,
     "metadata": {},
     "output_type": "execute_result"
    }
   ],
   "source": [
    "s = \"(])[\"\n",
    "check_brackets(s)"
   ]
  },
  {
   "cell_type": "code",
   "execution_count": 18,
   "id": "00c9e58a",
   "metadata": {
    "slideshow": {
     "slide_type": "subslide"
    }
   },
   "outputs": [
    {
     "data": {
      "text/plain": [
       "True"
      ]
     },
     "execution_count": 18,
     "metadata": {},
     "output_type": "execute_result"
    }
   ],
   "source": [
    "s = \"{{}[]([])}\"\n",
    "check_brackets(s)"
   ]
  },
  {
   "cell_type": "code",
   "execution_count": 19,
   "id": "8aa91466",
   "metadata": {
    "slideshow": {
     "slide_type": "subslide"
    }
   },
   "outputs": [
    {
     "data": {
      "text/plain": [
       "False"
      ]
     },
     "execution_count": 19,
     "metadata": {},
     "output_type": "execute_result"
    }
   ],
   "source": [
    "s = \"{{}[]([)}\"\n",
    "check_brackets(s)"
   ]
  },
  {
   "cell_type": "code",
   "execution_count": 14,
   "id": "709e6a8d",
   "metadata": {
    "slideshow": {
     "slide_type": "subslide"
    }
   },
   "outputs": [],
   "source": [
    "def convert(bracket):\n",
    "    if bracket == ')':\n",
    "        return '('\n",
    "    elif bracket == ']':\n",
    "        return '['\n",
    "    elif bracket == '}':\n",
    "        return '{'\n",
    "    else:\n",
    "        return False\n"
   ]
  },
  {
   "cell_type": "code",
   "execution_count": 15,
   "id": "766469e4",
   "metadata": {
    "slideshow": {
     "slide_type": "subslide"
    }
   },
   "outputs": [],
   "source": [
    "def check_brackets(s):        \n",
    "    stack = Stack(100)\n",
    "    open_brackets = ['(', '[', '{'] # M/2\n",
    "    for c in s:\n",
    "        if c in open_brackets:\n",
    "            stack.push(c)\n",
    "        elif (not stack.empty()) and stack.top() == convert(c):\n",
    "            stack.pop();\n",
    "        else:\n",
    "            return False\n",
    "\n",
    "    return stack.empty()"
   ]
  },
  {
   "cell_type": "markdown",
   "id": "b18952a7",
   "metadata": {},
   "source": [
    "M = # brackets (type of brackets)\n",
    "N = length s\n",
    "\n",
    "s = \"[]{}[]()([{}])\"\n",
    "\n",
    "convert(c) : O(M)\n",
    "if c in open_brackets:  O(M)\n",
    "\n",
    "check_brackets:  O(NxM)"
   ]
  }
 ],
 "metadata": {
  "celltoolbar": "Slideshow",
  "kernelspec": {
   "display_name": "Python 3",
   "language": "python",
   "name": "python3"
  },
  "language_info": {
   "codemirror_mode": {
    "name": "ipython",
    "version": 3
   },
   "file_extension": ".py",
   "mimetype": "text/x-python",
   "name": "python",
   "nbconvert_exporter": "python",
   "pygments_lexer": "ipython3",
   "version": "3.8.8"
  }
 },
 "nbformat": 4,
 "nbformat_minor": 5
}
