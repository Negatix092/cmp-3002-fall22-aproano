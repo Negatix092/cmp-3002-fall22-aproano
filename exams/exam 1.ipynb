{
 "cells": [
  {
   "cell_type": "markdown",
   "id": "e95b047e",
   "metadata": {},
   "source": [
    "### (15) Please answer true or false explaining why your choice.\n",
    "\n",
    "a. $n^2 + n + 3^n$ is $O(n^2)$\n",
    "\n",
    "> False. \n",
    "\n",
    "> $3^n$ grows faster than $n^2$\n",
    "\n",
    "b. $log_2(n)$ is $O(log_{10}(n))$\n",
    "\n",
    "> True. \n",
    "\n",
    "> $log_2(n) = \\frac{log_{10}(n)}{log_{10}(2)}$\n",
    "\n",
    "c. An algorithm with complexity $O(2^n)$ is worse than an algorithm with complexity $O(n^{10})$\n",
    "\n",
    "> True. \n",
    "\n",
    "> Applying log to both sides, need to prove that: $n > 10 log_2(n)$ or\n",
    "\n",
    "> $0.1 > \\frac{log_2(n)}{n}$\n",
    "\n",
    "> $n \\geq 60$\n",
    "\n",
    "d. Linear search performs better in a sorted array than in a non-sorted array\n",
    "\n",
    "> False\n",
    "\n",
    "> Search doesn't depend on whether the array is sorted or not.\n",
    "\n",
    "e. If there exists an algorithm with $O(1)$ runtime and $O(n)$ memory to solve a problem we are working on, we should always use it becuase it is very fast.\n",
    "\n",
    "> False\n",
    "\n",
    "> Although runtime is very good, $O(n)$ implies that the memory is going to grow. Which can cause the computer to run out of memory (memory leak)."
   ]
  },
  {
   "cell_type": "code",
   "execution_count": 33,
   "id": "18768858",
   "metadata": {},
   "outputs": [
    {
     "data": {
      "image/png": "[encoded data removed]",
      "text/plain": [
       "<Figure size 432x288 with 1 Axes>"
      ]
     },
     "metadata": {
      "needs_background": "light"
     },
     "output_type": "display_data"
    }
   ],
   "source": [
    "import numpy as np\n",
    "import pandas as pd\n",
    "import matplotlib.pyplot as plt\n",
    "\n",
    "n = np.arange(1,100)\n",
    "X = np.log2(n) / n\n",
    "\n",
    "df = pd.DataFrame(zip(n,X))\n",
    "df.columns = ['n', 'X']\n",
    "df.plot(x='n', y='X')\n",
    "plt.grid()"
   ]
  },
  {
   "cell_type": "code",
   "execution_count": 24,
   "id": "40f84b96",
   "metadata": {},
   "outputs": [
    {
     "data": {
      "text/plain": [
       "511116753300641401"
      ]
     },
     "execution_count": 24,
     "metadata": {},
     "output_type": "execute_result"
    }
   ],
   "source": [
    "59**10"
   ]
  },
  {
   "cell_type": "code",
   "execution_count": 25,
   "id": "ea6c7af5",
   "metadata": {},
   "outputs": [
    {
     "data": {
      "text/plain": [
       "576460752303423488"
      ]
     },
     "execution_count": 25,
     "metadata": {},
     "output_type": "execute_result"
    }
   ],
   "source": [
    "2**59"
   ]
  },
  {
   "cell_type": "markdown",
   "id": "1e5fe8ee",
   "metadata": {},
   "source": [
    "### (7) Assume you write a function in Python to perform a given task. \n",
    "\n",
    "- Describe how you would apply the scientific to analyze the performance of your code. \n",
    "- What kind of additional code do you need to write to accomplish your tasks?\n",
    "- What kind of mathematical analysis do you need to perform?\n",
    "\n",
    "\n",
    "The scientific method consists of the following stages:\n",
    "\n",
    "- Observe\n",
    "- Hypothesize\n",
    "- Predict\n",
    "- Verify\n",
    "- Validate\n",
    "\n",
    "We observe the performance of the code. We need to write code that will help us measure the runtime of the code. Additionally, we need to run the code several times for different inputs. \n",
    "\n",
    "Based on those inputs, we analize the relationship between the inputs and the observed runtime. Based on that we can make hypothesis about what function describes this relationship.\n",
    "\n",
    "We now can predict the runtime for different inputs, based on the function before. \n",
    "\n",
    "We validate these predictions by running and measuring the runtime again. If the prediction and the prediction are close enough, we have validated our analysis.\n",
    "\n",
    "At the end, the scietific method provides a practical way to analyze the performance of our code. We can do the same to understand memory as well. In this case, we need to use operating system tools to know how much memory is being consumed by our code. "
   ]
  },
  {
   "cell_type": "markdown",
   "id": "ffa52053",
   "metadata": {},
   "source": [
    "### (18) For the following pieces of code, estimate the complexity in terms of the asymptotic notation $O$:\n",
    "\n",
    "**Part a:**\n",
    "\n",
    "```\n",
    "sum = 0\n",
    "n = N\n",
    "while n > 0:\n",
    "    for i in range(n):\n",
    "        sum = sum + 1\n",
    "    n = n // 2\n",
    "\n",
    "# Python uses // for integer division, for example: 1//3 = 0\n",
    "```\n",
    "\n",
    "$O(nlog(n))$\n",
    "\n",
    "**Part b:**\n",
    "\n",
    "```\n",
    "sum = 0\n",
    "for i in range(N):\n",
    "    for j in range(N):\n",
    "        sum = sum + 1\n",
    "```\n",
    "$O(n^2)$\n",
    "\n",
    "**Part c:**\n",
    "\n",
    "```\n",
    "sum = 0\n",
    "n = 1\n",
    "while n < N:\n",
    "    for i in range(N):\n",
    "        sum = sum + 1\n",
    "    n = n * 2\n",
    "```\n",
    "\n",
    "$O(nlog(n))$"
   ]
  },
  {
   "cell_type": "markdown",
   "id": "340b797a",
   "metadata": {},
   "source": [
    "### Given an array of integers X, return an array Y such that each element represents the number of digits of the corresponding element of X.\n",
    "\n",
    "For example:\n",
    "\n",
    "```\n",
    "X = [1, 234, 34]\n",
    "\n",
    "Y = [1, 3, 2]\n",
    "```\n",
    "\n",
    "In this case `X[0] = 1` which has only one digit, therefore `Y[1] = 1`. In the case of `X[2] = 34`, it has two digits, thus `Y[2] = 2`.\n",
    "\n",
    "1. Implement a function `count_digits(n)` that returns the number of digits of an integer `n`\n",
    "2. Implement a function `get_array_digit_count(X)` that returns `Y` and takes array `X` as an input.\n",
    "3. Calculate the complexity of both `count_digits(n)` and `get_array_digit_count(X)`\n",
    "\n",
    "\n"
   ]
  },
  {
   "cell_type": "code",
   "execution_count": 1,
   "id": "e9cdc029",
   "metadata": {},
   "outputs": [
    {
     "data": {
      "text/plain": [
       "[1, 2, 4, 3]"
      ]
     },
     "execution_count": 1,
     "metadata": {},
     "output_type": "execute_result"
    }
   ],
   "source": [
    "def count_digits(n):\n",
    "    total = 0\n",
    "    while n > 0:\n",
    "        n = n // 10\n",
    "        total += 1\n",
    "    return total\n",
    "\n",
    "# str(n);  O(M) where M is the number of digits\n",
    "\n",
    "def get_array_digit_count(X):\n",
    "    \n",
    "    return [count_digits(n) for n in X]\n",
    "\n",
    "# count_digits takes O(M), where M is the max number of digits\n",
    "# get_array_digit_count is O(NM), where N is the total number of numbers\n",
    "\n",
    "get_array_digit_count([1, 23, 4331, 593])"
   ]
  },
  {
   "cell_type": "markdown",
   "id": "e5c7d06d",
   "metadata": {},
   "source": [
    "### We are going to use array M to store the values of a plot in an x-y axis. The indeces of M will represent the values in the x-axis while the values stored in the array represent the values in the y-axis.   \n",
    "\n",
    "For example:\n",
    "\n",
    "```\n",
    "M = [2,3,4,5,2,0]\n",
    "```\n",
    "\n",
    "can be plotted as:\n",
    "\n",
    "<img src=\"../images/mountain.png\" alt=\"drawing\" style=\"width:400px;\"/>\n",
    "\n",
    "\n",
    "\n",
    "\n",
    "\n",
    "\n",
    "\n",
    "1. Given `M`, write a function that returns `True` if and only if `M` is a valid mountain array. Otherwise, it returns False. \n",
    "\n",
    "\n",
    "> `M` is a **mountain array** if and only if:\n",
    "\n",
    "> $M[0] < M[1] < M[2] < ... < M[i]$\n",
    "\n",
    "> $M[i] > M[i+1] > ... > M[L]$\n",
    "\n",
    "> where $0 < i < L$ and $L$ is the length of the array.\n",
    "\n",
    "**Note:**\n",
    "\n",
    "- From our example above, $M = [2,3,4,5,2,0]$ is a mountain array (the value of $i$ is 3). So your function returns True. \n",
    "\n",
    "- However, $M = [2,3,4,4,2,0]$ is not a mountain array because $M[2] = M[3]$. So your function returns False. \n",
    "\n",
    "\n",
    "2. Calculate the complexity of your function. "
   ]
  },
  {
   "cell_type": "code",
   "execution_count": 4,
   "id": "01fe8216",
   "metadata": {},
   "outputs": [
    {
     "name": "stdout",
     "output_type": "stream",
     "text": [
      "False\n",
      "True\n"
     ]
    }
   ],
   "source": [
    "def is_mountain(M):\n",
    "\n",
    "    N = len(M)\n",
    "    i = 0\n",
    "\n",
    "    # up direction\n",
    "    while i+1 < N and M[i] < M[i+1]:\n",
    "        i += 1\n",
    "\n",
    "    # no peak at the beginning or end\n",
    "    if i == 0 or i == N-1:\n",
    "        return False\n",
    "\n",
    "    # down direction\n",
    "    while i+1 < N and M[i] > M[i+1]:\n",
    "        i += 1\n",
    "\n",
    "    return i == N-1\n",
    "    \n",
    "print(is_mountain([2,3,4,4,2,0]))\n",
    "print(is_mountain([2,3,4,5,2,0]))\n",
    "\n",
    "# complexity is O(N), we visit each element of the array only once"
   ]
  },
  {
   "cell_type": "markdown",
   "id": "f1f6555c",
   "metadata": {},
   "source": [
    "### The median is the middle number in a sorted, ascending or descending array of numbers.\n",
    "\n",
    "- For a sorted array $A$ of size $N$, the median is $A[\\frac{N-1}{2}]$ if $N$ is odd.\n",
    "- If $N$ is even, the median is $\\frac{A[\\frac{N}{2}-1] + A[{\\frac{N}{2}}]}{2}$\n",
    "\n",
    "Implement a Python function that return the median of an array. The input of this function is a non-sorted array. \n",
    "\n",
    "- Write your own code to sort the array\n",
    "- Write the function that calculates the median\n",
    "- Calculate the total complexity of your code.\n",
    "\n",
    "Note: DO NOT use Python function like `sorted` to sort your array. Write your own implementation with the algorithms we studied in class."
   ]
  },
  {
   "cell_type": "code",
   "execution_count": 5,
   "id": "0d1c4630",
   "metadata": {},
   "outputs": [],
   "source": [
    "# Use insertion_sort implementation from class\n",
    "\n",
    "def get_median(A):\n",
    "    \n",
    "    A_sorted = insertion_sort(A)\n",
    "    if len(A) % 2:\n",
    "        return A_sorted[(len(A_sorted)-1)/2]\n",
    "    else:\n",
    "        return (A_sorted[(len(A_sorted)-1)/2] + A_sorted[(len(A_sorted))/2]) / 2\n",
    "    \n",
    "# complexity O(n^2) from insertion sort. In the get median, the operation is always constant\n",
    "        "
   ]
  },
  {
   "cell_type": "code",
   "execution_count": null,
   "id": "a66bf52b",
   "metadata": {},
   "outputs": [],
   "source": []
  }
 ],
 "metadata": {
  "kernelspec": {
   "display_name": "Python 3",
   "language": "python",
   "name": "python3"
  },
  "language_info": {
   "codemirror_mode": {
    "name": "ipython",
    "version": 3
   },
   "file_extension": ".py",
   "mimetype": "text/x-python",
   "name": "python",
   "nbconvert_exporter": "python",
   "pygments_lexer": "ipython3",
   "version": "3.8.8"
  }
 },
 "nbformat": 4,
 "nbformat_minor": 5
}
