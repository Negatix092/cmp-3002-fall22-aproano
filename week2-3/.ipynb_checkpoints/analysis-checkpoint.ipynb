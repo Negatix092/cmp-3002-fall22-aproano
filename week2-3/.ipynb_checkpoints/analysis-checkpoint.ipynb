{
 "cells": [
  {
   "cell_type": "code",
   "execution_count": 2,
   "id": "5acb4fe5",
   "metadata": {
    "slideshow": {
     "slide_type": "skip"
    }
   },
   "outputs": [],
   "source": [
    "import time\n",
    "import pandas as pd\n",
    "import numpy as np\n",
    "import matplotlib.pyplot as plt\n",
    "%matplotlib inline  "
   ]
  },
  {
   "cell_type": "markdown",
   "id": "a41bb501",
   "metadata": {
    "slideshow": {
     "slide_type": "slide"
    }
   },
   "source": [
    "# CMP 3002 \n",
    "## Analyzing algorithms"
   ]
  },
  {
   "cell_type": "markdown",
   "id": "785b04b0",
   "metadata": {
    "slideshow": {
     "slide_type": "slide"
    }
   },
   "source": [
    "### Housekeeping\n",
    "\n",
    "- Install Git, Anaconda and Slack\n",
    "- Extra points: https://www.octogatosconf.com/\n",
    "    - 5 points for people that submit a summary about the talks they attended"
   ]
  },
  {
   "cell_type": "markdown",
   "id": "3f16eea7",
   "metadata": {
    "slideshow": {
     "slide_type": "slide"
    }
   },
   "source": [
    "## Review"
   ]
  },
  {
   "cell_type": "markdown",
   "id": "d23f2a16",
   "metadata": {
    "slideshow": {
     "slide_type": "subslide"
    }
   },
   "source": [
    "program -> algorithm\n",
    "\n",
    "language -> pseudocode\n",
    "\n",
    "computer -> model of computation"
   ]
  },
  {
   "cell_type": "markdown",
   "id": "c6e57d3b",
   "metadata": {
    "slideshow": {
     "slide_type": "subslide"
    }
   },
   "source": [
    "### Random access machine (RAM) \n",
    "\n",
    "![plot](../images/ram.png)\n",
    "\n",
    "It allows us to compare algorithms on a performance basis.\n",
    "\n",
    "Each operation takes 1 time steps (write or read)\n",
    "Needs to know where the words are to access them\n",
    "A word is an x number of bits"
   ]
  },
  {
   "cell_type": "markdown",
   "id": "db7ecc6f",
   "metadata": {
    "slideshow": {
     "slide_type": "subslide"
    }
   },
   "source": [
    "### Pointer machine\n",
    "\n",
    "- Simple version of object oriented programming \n",
    "- Dynamically allocated objects (create and destroy)\n",
    "- Objects have a constant number of fields\n",
    "- Field is either a word or a pointer\n",
    "- Pointer either points to an object or is null (none in Python)\n",
    "- Adding values takes 1 time steps\n",
    "- Following a pointer takes 1 time steps"
   ]
  },
  {
   "cell_type": "markdown",
   "id": "e9889954",
   "metadata": {
    "slideshow": {
     "slide_type": "slide"
    }
   },
   "source": [
    "## Runtime\n",
    "\n",
    "- The number of times that a discrete operation needs to performed in order to get a computation done.\n",
    "- Applications:\n",
    "    - performance prediction\n",
    "    - compare performance\n",
    "    - provide guarantees\n",
    "    - avoid performance bugs - a lot of performance issues are caused because programmers don't understand the performance characteristics of their own code "
   ]
  },
  {
   "cell_type": "markdown",
   "id": "ebc48f0a",
   "metadata": {
    "slideshow": {
     "slide_type": "subslide"
    }
   },
   "source": [
    "### Scientific method\n",
    "\n",
    "- **Observe:** running time or memory\n",
    "- **Hypothesize:** model consistent with the observations\n",
    "- **Predict:** based on hypothesis\n",
    "- **Verify:** using experiments\n",
    "- **Validate:** repeat until the hypothesis and observations agree\n",
    "\n",
    "** experiments should be reproducible\n",
    "\n",
    "** experiments should be able to show hypothesis are wrong"
   ]
  },
  {
   "cell_type": "markdown",
   "id": "046f483e",
   "metadata": {
    "slideshow": {
     "slide_type": "subslide"
    }
   },
   "source": [
    "### Example\n",
    "- Write a function that takes calculates the sum of numbers from 1 to *n*, where *n* is the input\n",
    "\n",
    "```\n",
    "def sum1(n):\n",
    "    total = 0\n",
    "    for i in range(1, n+1):\n",
    "        total += i\n",
    "    return total\n",
    "```"
   ]
  },
  {
   "cell_type": "markdown",
   "id": "08baa411",
   "metadata": {
    "slideshow": {
     "slide_type": "subslide"
    }
   },
   "source": [
    "### Observations\n",
    "\n",
    "- how do we time our code?\n",
    "    - manually using a watch\n",
    "    - use Python timer"
   ]
  },
  {
   "cell_type": "code",
   "execution_count": 17,
   "id": "e0fc9b19",
   "metadata": {
    "slideshow": {
     "slide_type": "subslide"
    }
   },
   "outputs": [],
   "source": [
    "def sum1_time(n):\n",
    "    start = 1000000*time.time()\n",
    "    total = 0\n",
    "    for i in range(1,n+1):\n",
    "        total += i\n",
    "    return 1000000*time.time() - start\n",
    "\n",
    "# Implement this using Python decorators\n",
    "\n",
    "# 2.1 GHz = 2.1 x 10^9\n",
    "\n",
    "# | 1 | 2 |   3-4   |"
   ]
  },
  {
   "cell_type": "code",
   "execution_count": 20,
   "id": "db1ad2c4",
   "metadata": {
    "slideshow": {
     "slide_type": "subslide"
    }
   },
   "outputs": [],
   "source": [
    "N = [1, 10, 100, 1000, 10000, 100000, 1000000, 10000000]\n",
    "run_time = [sum1_time(n) for n in N]"
   ]
  },
  {
   "cell_type": "code",
   "execution_count": 28,
   "id": "021cc735",
   "metadata": {
    "slideshow": {
     "slide_type": "skip"
    }
   },
   "outputs": [],
   "source": [
    "df = pd.DataFrame(zip(N, run_time))\n",
    "\n",
    "df.columns = ['N', 'T(N)']"
   ]
  },
  {
   "cell_type": "code",
   "execution_count": 29,
   "id": "82be5255",
   "metadata": {
    "slideshow": {
     "slide_type": "subslide"
    }
   },
   "outputs": [
    {
     "data": {
      "text/html": [
       "<div>\n",
       "<style scoped>\n",
       "    .dataframe tbody tr th:only-of-type {\n",
       "        vertical-align: middle;\n",
       "    }\n",
       "\n",
       "    .dataframe tbody tr th {\n",
       "        vertical-align: top;\n",
       "    }\n",
       "\n",
       "    .dataframe thead th {\n",
       "        text-align: right;\n",
       "    }\n",
       "</style>\n",
       "<table border=\"1\" class=\"dataframe\">\n",
       "  <thead>\n",
       "    <tr style=\"text-align: right;\">\n",
       "      <th></th>\n",
       "      <th>N</th>\n",
       "      <th>T(N)</th>\n",
       "    </tr>\n",
       "  </thead>\n",
       "  <tbody>\n",
       "    <tr>\n",
       "      <th>0</th>\n",
       "      <td>1</td>\n",
       "      <td>2.00</td>\n",
       "    </tr>\n",
       "    <tr>\n",
       "      <th>1</th>\n",
       "      <td>10</td>\n",
       "      <td>1.00</td>\n",
       "    </tr>\n",
       "    <tr>\n",
       "      <th>2</th>\n",
       "      <td>100</td>\n",
       "      <td>4.75</td>\n",
       "    </tr>\n",
       "    <tr>\n",
       "      <th>3</th>\n",
       "      <td>1000</td>\n",
       "      <td>51.25</td>\n",
       "    </tr>\n",
       "    <tr>\n",
       "      <th>4</th>\n",
       "      <td>10000</td>\n",
       "      <td>521.75</td>\n",
       "    </tr>\n",
       "    <tr>\n",
       "      <th>5</th>\n",
       "      <td>100000</td>\n",
       "      <td>6520.75</td>\n",
       "    </tr>\n",
       "    <tr>\n",
       "      <th>6</th>\n",
       "      <td>1000000</td>\n",
       "      <td>58549.00</td>\n",
       "    </tr>\n",
       "    <tr>\n",
       "      <th>7</th>\n",
       "      <td>10000000</td>\n",
       "      <td>429071.00</td>\n",
       "    </tr>\n",
       "  </tbody>\n",
       "</table>\n",
       "</div>"
      ],
      "text/plain": [
       "          N       T(N)\n",
       "0         1       2.00\n",
       "1        10       1.00\n",
       "2       100       4.75\n",
       "3      1000      51.25\n",
       "4     10000     521.75\n",
       "5    100000    6520.75\n",
       "6   1000000   58549.00\n",
       "7  10000000  429071.00"
      ]
     },
     "execution_count": 29,
     "metadata": {},
     "output_type": "execute_result"
    }
   ],
   "source": [
    "df"
   ]
  },
  {
   "cell_type": "markdown",
   "id": "94d68f89",
   "metadata": {
    "slideshow": {
     "slide_type": "subslide"
    }
   },
   "source": [
    "### Hypothesis\n",
    "\n",
    "Based on the observations, what would be a good function that describes the runtime?"
   ]
  },
  {
   "cell_type": "code",
   "execution_count": 31,
   "id": "d5decc81",
   "metadata": {
    "slideshow": {
     "slide_type": "subslide"
    }
   },
   "outputs": [
    {
     "data": {
      "text/plain": [
       "<AxesSubplot:xlabel='N'>"
      ]
     },
     "execution_count": 31,
     "metadata": {},
     "output_type": "execute_result"
    },
    {
     "data": {
      "image/png": "[encoded data removed]",
      "text/plain": [
       "<Figure size 432x288 with 1 Axes>"
      ]
     },
     "metadata": {
      "needs_background": "light"
     },
     "output_type": "display_data"
    }
   ],
   "source": [
    "df.plot(x='N', y='T(N)')"
   ]
  },
  {
   "cell_type": "markdown",
   "id": "4fbd9b7a",
   "metadata": {
    "slideshow": {
     "slide_type": "subslide"
    }
   },
   "source": [
    "### Hypothesis\n",
    "\n",
    "The growth of the runtime seems to follow a linear function of the type:\n",
    "\n",
    "> $T(n) = a \\times n + b$\n",
    "\n",
    "- $b$ is not difficult to estimate (why?)\n",
    "\n",
    "> $b = 0$\n",
    "\n",
    "- in the case of $a$ we use our observations \n",
    "\n",
    "> $10000 \\times a = 521.75$\n",
    "\n",
    "> $a = 0.052$\n",
    "\n",
    "> $T(n) = 0.052n$"
   ]
  },
  {
   "cell_type": "markdown",
   "id": "33780761",
   "metadata": {
    "slideshow": {
     "slide_type": "subslide"
    }
   },
   "source": [
    "### Predict\n",
    "\n",
    "For very large values of $n$:\n",
    "\n",
    "> $n = 10^{12}$\n",
    "\n",
    "> $T(n) = 52 \\times 10^9$ us\n",
    "\n",
    "> $T(n) = 52000$ seconds\n",
    "\n",
    "> $T(n) = 14.4$ hours"
   ]
  },
  {
   "cell_type": "markdown",
   "id": "1d09f023",
   "metadata": {
    "slideshow": {
     "slide_type": "subslide"
    }
   },
   "source": [
    "### Verify\n",
    "\n",
    "Use experiments to verify the predictions\n",
    "\n",
    "- Will the prediction hold in any case?\n",
    "- What factors will affect our experiments?\n",
    "    - hardware\n",
    "    - software running\n",
    "    - operating system\n",
    "    - language used\n",
    "- It's difficult to get precise measurements"
   ]
  },
  {
   "cell_type": "markdown",
   "id": "24af88a7",
   "metadata": {
    "slideshow": {
     "slide_type": "subslide"
    }
   },
   "source": [
    "### Validate\n",
    "\n",
    "Repeat this methodology until we get to the right function"
   ]
  },
  {
   "cell_type": "markdown",
   "id": "0a66580e",
   "metadata": {
    "slideshow": {
     "slide_type": "slide"
    }
   },
   "source": [
    "## Math models\n",
    "\n",
    "Total runtime can be defined as the sum of the cost of the basic operations of the programs multiply by their frequency\n"
   ]
  },
  {
   "cell_type": "markdown",
   "id": "facea497",
   "metadata": {
    "slideshow": {
     "slide_type": "subslide"
    }
   },
   "source": [
    "### Example \n",
    "\n",
    "```\n",
    "def sum1(n):\n",
    "    total = 0\n",
    "    for i in range(1, n+1):\n",
    "        total += i\n",
    "    return total\n",
    "```\n",
    "\n",
    "\n",
    "|Operation|Cost|Frequency|\n",
    "|---------|----|---------|\n",
    "| var declaration | $c_1$ | 2 |\n",
    "| array access | $c_2$ | $n$ |\n",
    "| increment | $c_3$ | $n$ |\n",
    "\n",
    "> $T(n) = 2c_1 + (c_2 + c_3)n$"
   ]
  },
  {
   "cell_type": "markdown",
   "id": "b2144210",
   "metadata": {
    "slideshow": {
     "slide_type": "subslide"
    }
   },
   "source": [
    "### Math models\n",
    "\n",
    "- What are the issues of counting the frequency of each operation in our code?\n",
    "- Are full details really necessary?\n",
    "- How do we simplify this?\n"
   ]
  },
  {
   "cell_type": "markdown",
   "id": "f1412ca2",
   "metadata": {
    "slideshow": {
     "slide_type": "subslide"
    }
   },
   "source": [
    "### Simplify calculation\n",
    "\n",
    "1. Just count the most expensive ones\n",
    "    - or the one executed the most frequently\n",
    "2. Estimate the runtime as a function of $n$\n",
    "    - ignore lower order terms\n",
    "    - the limit to infinity is 1\n",
    "    \n",
    "> $T(n) = 2c_1 + (c_2 + c_3)n$\n",
    "\n",
    "> $T(n) \\approx (c_2 + c_3)n$\n",
    " "
   ]
  },
  {
   "cell_type": "markdown",
   "id": "7f282703",
   "metadata": {
    "slideshow": {
     "slide_type": "slide"
    }
   },
   "source": [
    "## Insertion sort\n",
    "\n",
    "- Input: A sequence of $n$ numbers $(a_1, a_2, \\dots, a_n)$\n",
    "- Output: A permutation $(a'_1, a'_2, \\dots, a'_n)$ of the input sequence such that $a'_1 \\leq a'_2 \\leq \\dots \\leq a'_n$\n",
    "\n",
    "**The idea is to sort the same way we would sort a hand of cards**"
   ]
  },
  {
   "cell_type": "markdown",
   "id": "240eec38",
   "metadata": {
    "slideshow": {
     "slide_type": "subslide"
    }
   },
   "source": [
    "### Example\n",
    "\n",
    "![plot](../images/insertion_sort_example.png)"
   ]
  },
  {
   "cell_type": "markdown",
   "id": "9dba549a",
   "metadata": {
    "slideshow": {
     "slide_type": "subslide"
    }
   },
   "source": [
    "![plot](../images/insertion_sort.png)"
   ]
  },
  {
   "cell_type": "markdown",
   "id": "b8588058",
   "metadata": {
    "slideshow": {
     "slide_type": "subslide"
    }
   },
   "source": [
    "### Analysis\n",
    "![plot](../images/insertion_sort_analysis.png)\n",
    "\n",
    "$t_1 + t_2 + ... + t_{n-1}$"
   ]
  },
  {
   "cell_type": "markdown",
   "id": "bd3ee2d9",
   "metadata": {
    "slideshow": {
     "slide_type": "subslide"
    }
   },
   "source": [
    "### Total time\n",
    "\n",
    "> $T(n) = c_1n + c_2(n-1) + c_4(n-1) + c_5 \\sum_{j=2}^n t_j + c_6 \\sum_{j=2}^n (t_j-1) + c_7 \\sum_{j=2}^n (t_j-1) + c_8(n-1)$"
   ]
  },
  {
   "cell_type": "markdown",
   "id": "00e53c6f",
   "metadata": {
    "slideshow": {
     "slide_type": "subslide"
    }
   },
   "source": [
    "**Even for inputs of the same size, the running time might depend on the type of input** "
   ]
  },
  {
   "cell_type": "markdown",
   "id": "932bfd54",
   "metadata": {
    "slideshow": {
     "slide_type": "subslide"
    }
   },
   "source": [
    "### Best case:\n",
    "- The input is sorted, that is $a_1 \\leq a_2 \\leq \\dots \\leq a_n$\n",
    "- $t_j = 1, \\forall j$\n",
    "\n",
    "\n",
    "> $T(n) = c_1n + c_2(n-1) + c_4(n-1) + c_5 (n-1) + c_8(n-1)$\n",
    "\n",
    "> $T(n) = (c_1 + c_2 + c_4 + c_5 + c_8)n - (c_2 + c_4 + c_5 + c_8)$"
   ]
  },
  {
   "cell_type": "markdown",
   "id": "5ec8294b",
   "metadata": {
    "slideshow": {
     "slide_type": "subslide"
    }
   },
   "source": [
    "Note that:\n",
    "\n",
    "> $T(n) = an + b$\n",
    "\n",
    "> $a = c_1 + c_2 + c_4 + c_5 + c_8$\n",
    "\n",
    "> $b = -(c_2 + c_4 + c_5 + c_8)$\n",
    "\n",
    "So $T(n)$ is a **linear function**"
   ]
  },
  {
   "cell_type": "markdown",
   "id": "66daa5e5",
   "metadata": {
    "slideshow": {
     "slide_type": "subslide"
    }
   },
   "source": [
    "### Worst case:\n",
    "- The input is sorted in reverse, that is $a_1 \\geq a_2 \\geq \\dots \\geq a_n$\n",
    "\n",
    "> $t_j = j, \\forall j$\n",
    "\n",
    "> $\\sum_{j=2}^n j = \\frac{n(n-1)}{2} - 1$\n",
    "\n",
    "> $\\sum_{j=2}^n (j-1) = \\frac{n(n-1)}{2}$\n",
    "\n",
    "\n",
    "> $T(n) = c_1n + c_2(n-1) + c_4(n-1) + c_5 (\\frac{n(n-1)}{2} - 1) + c_6 (\\frac{n(n-1)}{2}) + c_7 (\\frac{n(n-1)}{2}) + c_8(n-1)$\n",
    "\n",
    "> $T(n) = (\\frac{c_5}{2} + \\frac{c_6}{2} + \\frac{c_7}{2})n^2 + (c_1 + c_2 + c_4 + \\frac{c_5}{2} - \\frac{c_6}{2} - \\frac{c_7}{2} + c_8)n - (c_2 + c_4 + c_5 + c_8)$"
   ]
  },
  {
   "cell_type": "markdown",
   "id": "4f0fa48f",
   "metadata": {
    "slideshow": {
     "slide_type": "subslide"
    }
   },
   "source": [
    "Note that:\n",
    "\n",
    "> $T(n) = an^2 + bn + c$\n",
    "\n",
    "> $a = \\frac{c_5}{2} + \\frac{c_6}{2} + \\frac{c_7}{2}$\n",
    "\n",
    "> $b = c_1 + c_2 + c_4 + \\frac{c_5}{2} - \\frac{c_6}{2} - \\frac{c_7}{2} + c_8$\n",
    "\n",
    "> $c = -(c_2 + c_4 + c_5 + c_8)$\n",
    "\n",
    "So $T(n)$ is a **quadratic function**"
   ]
  },
  {
   "cell_type": "markdown",
   "id": "3cb5c63b",
   "metadata": {
    "slideshow": {
     "slide_type": "subslide"
    }
   },
   "source": [
    "### Runtime\n",
    "\n",
    "> $(c_1 + c_2 + c_4 + c_5 + c_8)n - (c_2 + c_4 + c_5 + c_8) \\leq T(n) \\leq (\\frac{c_5}{2} + \\frac{c_6}{2} + \\frac{c_7}{2})n^2 + (c_1 + c_2 + c_4 + \\frac{c_5}{2} - \\frac{c_6}{2} - \\frac{c_7}{2} + c_8)n - (c_2 + c_4 + c_5 + c_8)$\n"
   ]
  },
  {
   "cell_type": "markdown",
   "id": "5045dc1d",
   "metadata": {
    "slideshow": {
     "slide_type": "subslide"
    }
   },
   "source": [
    "### Simplifying\n",
    "\n",
    "> $(c_1 + c_2 + c_4 + c_5 + c_8)n \\leq T(n) \\leq (\\frac{c_5}{2} + \\frac{c_6}{2} + \\frac{c_7}{2})n^2$"
   ]
  },
  {
   "cell_type": "markdown",
   "id": "80f3c377",
   "metadata": {
    "slideshow": {
     "slide_type": "slide"
    }
   },
   "source": [
    "## Asymptotic notation\n",
    "\n",
    "- Domain is the natural numbers $\\{0, 1, 2, \\dots\\}$\n",
    "- Describe the worst-case of $T(n)$"
   ]
  },
  {
   "cell_type": "markdown",
   "id": "28132233",
   "metadata": {
    "slideshow": {
     "slide_type": "subslide"
    }
   },
   "source": [
    "### $\\Theta-notation$\n",
    "\n",
    "> $\\Theta(g(n)) = \\{f(n) : \\exists c_1, c_2, n_0 > 0, \\text{such that } 0 \\leq c_1g(n) \\leq f(n) \\leq c_2g(n), \\forall n \\geq n_0 \\}$\n",
    "\n",
    "- tight bound\n",
    "- we need two constants that represent an upper bound and a lower bound\n",
    "- Example: for loop to calculate sum of 1 to n is $\\Theta(n)$\n"
   ]
  },
  {
   "cell_type": "markdown",
   "id": "2fdc51fc",
   "metadata": {
    "slideshow": {
     "slide_type": "subslide"
    }
   },
   "source": [
    "### $O-notation$\n",
    "\n",
    "> $O(g(n)) = \\{f(n) : \\exists c, n_0 > 0 \\text{ such that } 0 \\leq f(n) \\leq cg(n), \\forall n \\geq n_0 \\}$\n",
    "\n",
    "- upper bound\n",
    "- Example: insertion sort is $O(n^2)$"
   ]
  },
  {
   "cell_type": "markdown",
   "id": "33554387",
   "metadata": {
    "slideshow": {
     "slide_type": "subslide"
    }
   },
   "source": [
    "### $\\Omega-notation$\n",
    "\n",
    "> $\\Omega(g(n)) = \\{f(n) : \\exists c, n_0 > 0 \\text{ such that } 0 \\leq cg(n) \\leq f(n), \\forall n \\geq n_0 \\}$\n",
    "\n",
    "- lower bound\n",
    "- Example: insertion sort is $\\Omega(n)$"
   ]
  },
  {
   "cell_type": "markdown",
   "id": "24942c84",
   "metadata": {
    "slideshow": {
     "slide_type": "slide"
    }
   },
   "source": [
    "## Types of analyses\n",
    "\n",
    "1. **Best case:** lower bound on cost, based on $\\Omega$ notation\n",
    "    - easiest input\n",
    "    - provides a goal for all inputs\n",
    "    \n",
    "2. **Worst case:** upper bound on cost, based on $O$ notation\n",
    "    - most difficult input\n",
    "    - provides a guarantee for all inputs\n",
    "    \n",
    "3. **Average case:** expected cost for a random input\n",
    "    - need to model for a random input\n",
    "    - provides a way to predict performance"
   ]
  },
  {
   "cell_type": "markdown",
   "id": "021a1fbd",
   "metadata": {
    "slideshow": {
     "slide_type": "subslide"
    }
   },
   "source": [
    "### How do we design our programs?\n",
    "\n",
    "When designing software, we need to consider the customer needs in our solutions\n",
    "\n",
    "1. Design for the worst case (most common)\n",
    "    - We can provide a performance guarantee for our customers\n",
    "2. Randomize and depend on a probabilistic guarantee\n",
    "    - This requires a good understanding of the users of the program\n",
    "    \n",
    "** Although is the standard, focusing on the worst case might not be the best approach"
   ]
  },
  {
   "cell_type": "markdown",
   "id": "78eda9be",
   "metadata": {
    "slideshow": {
     "slide_type": "slide"
    }
   },
   "source": [
    "## Important functions"
   ]
  },
  {
   "cell_type": "code",
   "execution_count": 75,
   "id": "fbbf0019",
   "metadata": {
    "slideshow": {
     "slide_type": "skip"
    }
   },
   "outputs": [],
   "source": [
    "r = pd.DataFrame()\n",
    "r['n'] = np.arange(1,100,10)\n",
    "r['n1'] = np.arange(1,100,10)"
   ]
  },
  {
   "cell_type": "code",
   "execution_count": 77,
   "id": "d520aa00",
   "metadata": {
    "slideshow": {
     "slide_type": "skip"
    }
   },
   "outputs": [],
   "source": [
    "r['log(n)'] = np.log2(r['n'])\n",
    "r['sqrt(n)'] = np.sqrt(r['n'])\n",
    "r['nlog(n)'] = r['n'] * r['log(n)']\n",
    "r['n^2'] = np.power(r['n'],2)\n",
    "r['n^3'] = np.power(r['n'],3)\n",
    "r['2^n'] = np.power(2*np.ones(r.shape[0]),r['n'])\n"
   ]
  },
  {
   "cell_type": "code",
   "execution_count": 93,
   "id": "a32cc313",
   "metadata": {
    "slideshow": {
     "slide_type": "subslide"
    }
   },
   "outputs": [
    {
     "data": {
      "image/png": "[encoded data removed]",
      "text/plain": [
       "<Figure size 864x432 with 1 Axes>"
      ]
     },
     "metadata": {
      "needs_background": "light"
     },
     "output_type": "display_data"
    }
   ],
   "source": [
    "r.plot(x='n1',logy=True, lw=2, figsize=(12,6))\n",
    "plt.xlabel('n')\n",
    "plt.grid()\n"
   ]
  },
  {
   "cell_type": "code",
   "execution_count": 79,
   "id": "a5514ae1",
   "metadata": {
    "slideshow": {
     "slide_type": "subslide"
    }
   },
   "outputs": [
    {
     "data": {
      "image/png": "[encoded data removed]",
      "text/plain": [
       "<Figure size 864x432 with 1 Axes>"
      ]
     },
     "metadata": {
      "needs_background": "light"
     },
     "output_type": "display_data"
    }
   ],
   "source": [
    "r[['n1','n', 'log(n)', 'sqrt(n)', 'nlog(n)', 'n^2', 'n^3']].plot(x='n1', lw=2, figsize=(12,6))\n",
    "plt.xlabel('n')\n",
    "plt.grid()"
   ]
  },
  {
   "cell_type": "code",
   "execution_count": 82,
   "id": "9ca26279",
   "metadata": {
    "slideshow": {
     "slide_type": "subslide"
    }
   },
   "outputs": [
    {
     "data": {
      "image/png": "[encoded data removed]",
      "text/plain": [
       "<Figure size 864x432 with 1 Axes>"
      ]
     },
     "metadata": {
      "needs_background": "light"
     },
     "output_type": "display_data"
    }
   ],
   "source": [
    "r[['n1','n', 'log(n)', 'sqrt(n)', 'nlog(n)']].plot(x='n1', lw=2, figsize=(12,6))\n",
    "plt.xlabel('n')\n",
    "plt.grid()"
   ]
  },
  {
   "cell_type": "code",
   "execution_count": 84,
   "id": "632a9902",
   "metadata": {
    "slideshow": {
     "slide_type": "subslide"
    }
   },
   "outputs": [
    {
     "data": {
      "image/png": "[encoded data removed]",
      "text/plain": [
       "<Figure size 864x432 with 1 Axes>"
      ]
     },
     "metadata": {
      "needs_background": "light"
     },
     "output_type": "display_data"
    }
   ],
   "source": [
    "r[['n1','n', 'log(n)', 'sqrt(n)']].plot(x='n1', lw=2, figsize=(12,6))\n",
    "plt.xlabel('n')\n",
    "plt.grid()"
   ]
  },
  {
   "cell_type": "markdown",
   "id": "4b0a5072",
   "metadata": {
    "slideshow": {
     "slide_type": "slide"
    }
   },
   "source": [
    "## Memory\n",
    "\n",
    "|type|bytes|\n",
    "|----|-----|\n",
    "|boolean|1|\n",
    "|char|2|\n",
    "|int|4|\n",
    "|float|4|\n",
    "|long|8|\n",
    "|double|8|"
   ]
  },
  {
   "cell_type": "markdown",
   "id": "944d82db",
   "metadata": {
    "slideshow": {
     "slide_type": "subslide"
    }
   },
   "source": [
    "### Common memory usage\n",
    "\n",
    "- one-dimensional arrays (size $N$)\n",
    "\n",
    "> $N \\times bytes_{N}$\n",
    "\n",
    "- two-dimensional arrays (size $N \\times M$)\n",
    "\n",
    "> $N \\times M \\times bytes_{N/M}$\n",
    "\n",
    "- for structures or classes that use pointers\n",
    "\n",
    "> $8 bytes$\n",
    "\n",
    "- there is going to be overhead for objects depending on the language\n"
   ]
  },
  {
   "cell_type": "markdown",
   "id": "44b82f7c",
   "metadata": {
    "slideshow": {
     "slide_type": "subslide"
    }
   },
   "source": [
    "### Calculating memory complexity\n",
    "\n",
    "- Rarely memory grows the same way runtime does\n",
    "    - If so, a memory leak might be present\n",
    "- Easier to just add up the total memory of the variables and objects being used\n",
    "\n",
    "\n",
    "```\n",
    "# Example memory leak\n",
    "int A [3];\n",
    "A = [1,2,3];\n",
    "\n",
    "int c = 5;\n",
    "int B [c];\n",
    "\n",
    "\n",
    "int c = 5*4;\n",
    "for (int i=1; i < 10; i++){\n",
    "int B *[] = malloc(i*8);\n",
    "}\n",
    "\n",
    "8 + 16 + 24 + ...\n",
    " i(i+2)/2\n",
    "```"
   ]
  }
 ],
 "metadata": {
  "celltoolbar": "Slideshow",
  "kernelspec": {
   "display_name": "Python 3",
   "language": "python",
   "name": "python3"
  },
  "language_info": {
   "codemirror_mode": {
    "name": "ipython",
    "version": 3
   },
   "file_extension": ".py",
   "mimetype": "text/x-python",
   "name": "python",
   "nbconvert_exporter": "python",
   "pygments_lexer": "ipython3",
   "version": "3.8.8"
  }
 },
 "nbformat": 4,
 "nbformat_minor": 5
}
