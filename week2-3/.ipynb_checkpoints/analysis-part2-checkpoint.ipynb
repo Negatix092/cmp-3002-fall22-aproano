{
 "cells": [
  {
   "cell_type": "code",
   "execution_count": 1,
   "id": "5acb4fe5",
   "metadata": {
    "slideshow": {
     "slide_type": "skip"
    }
   },
   "outputs": [],
   "source": [
    "import time\n",
    "import pandas as pd\n",
    "import numpy as np\n",
    "import matplotlib.pyplot as plt\n",
    "%matplotlib inline  "
   ]
  },
  {
   "cell_type": "markdown",
   "id": "a41bb501",
   "metadata": {
    "slideshow": {
     "slide_type": "slide"
    }
   },
   "source": [
    "# CMP 3002 \n",
    "## Analyzing algorithms"
   ]
  },
  {
   "cell_type": "markdown",
   "id": "e3379615",
   "metadata": {
    "slideshow": {
     "slide_type": "slide"
    }
   },
   "source": [
    "## Exercises "
   ]
  },
  {
   "cell_type": "markdown",
   "id": "ef9568f4",
   "metadata": {
    "slideshow": {
     "slide_type": "subslide"
    }
   },
   "source": [
    "### Find the asymptotic relationship between $6^n$ and $3^n$\n",
    "- $6^n$ is $O(3^n)$\n",
    "- $6^n$ is $\\Theta(3^n)$\n",
    "- $6^n$ is $\\Omega(3^n)$"
   ]
  },
  {
   "cell_type": "markdown",
   "id": "12737ae2",
   "metadata": {
    "slideshow": {
     "slide_type": "subslide"
    }
   },
   "source": [
    "### Find the asymptotic relationship between $3^n$ and $6^n$\n",
    "- $3^n$ is $O(6^n)$\n",
    "- $3^n$ is $\\Theta(6^n)$\n",
    "- $3^n$ is $\\Omega(6^n)$"
   ]
  },
  {
   "cell_type": "markdown",
   "id": "4e0a3971",
   "metadata": {
    "slideshow": {
     "slide_type": "slide"
    }
   },
   "source": [
    "### CLRS 3.1-4"
   ]
  },
  {
   "cell_type": "markdown",
   "id": "34f80674",
   "metadata": {
    "slideshow": {
     "slide_type": "subslide"
    }
   },
   "source": [
    "### Is $2^{n+1} = O(2^n)$? "
   ]
  },
  {
   "cell_type": "markdown",
   "id": "0beab159",
   "metadata": {
    "slideshow": {
     "slide_type": "subslide"
    }
   },
   "source": [
    "### Is $2^{2n} = O(n)$?"
   ]
  },
  {
   "cell_type": "markdown",
   "id": "9a6db7b1",
   "metadata": {
    "slideshow": {
     "slide_type": "subslide"
    }
   },
   "source": [
    "### Implement insertion sort in Python"
   ]
  }
 ],
 "metadata": {
  "celltoolbar": "Slideshow",
  "kernelspec": {
   "display_name": "Python 3",
   "language": "python",
   "name": "python3"
  },
  "language_info": {
   "codemirror_mode": {
    "name": "ipython",
    "version": 3
   },
   "file_extension": ".py",
   "mimetype": "text/x-python",
   "name": "python",
   "nbconvert_exporter": "python",
   "pygments_lexer": "ipython3",
   "version": "3.8.8"
  }
 },
 "nbformat": 4,
 "nbformat_minor": 5
}
