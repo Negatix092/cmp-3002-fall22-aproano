{
 "cells": [
  {
   "cell_type": "code",
   "execution_count": 1,
   "id": "5acb4fe5",
   "metadata": {
    "slideshow": {
     "slide_type": "skip"
    }
   },
   "outputs": [],
   "source": [
    "import time\n",
    "import pandas as pd\n",
    "import numpy as np\n",
    "import matp# We can use the same implementation we used for Arrays\n",
    "import ctypeslotlib.pyplot as plt\n",
    "%matplotlib inline  "
   ]
  },
  {
   "cell_type": "markdown",
   "id": "a41bb501",
   "metadata": {
    "slideshow": {
     "slide_type": "slide"
    }
   },
   "source": [
    "# CMP 3002 \n",
    "## Queues"
   ]
  },
  {
   "cell_type": "markdown",
   "id": "784ec892",
   "metadata": {
    "slideshow": {
     "slide_type": "slide"
    }
   },
   "source": [
    "## Queues"
   ]
  },
  {
   "cell_type": "markdown",
   "id": "8d429c9c",
   "metadata": {
    "slideshow": {
     "slide_type": "subslide"
    }
   },
   "source": [
    "- Linear data structures\n",
    "- Double ended structure\n",
    "- First-in, first-out (FIFO) list \n",
    "\n",
    "![plot](../images/queues.png)"
   ]
  },
  {
   "cell_type": "markdown",
   "id": "d2ac7310",
   "metadata": {
    "slideshow": {
     "slide_type": "subslide"
    }
   },
   "source": [
    "### Applications:\n",
    "\n",
    "- Simulation: lines\n",
    "- Ordered requests: schedulers, device drivers, routers\n",
    "- Searches "
   ]
  },
  {
   "cell_type": "markdown",
   "id": "4a0b047a",
   "metadata": {
    "slideshow": {
     "slide_type": "slide"
    }
   },
   "source": [
    "### Operations:\n",
    "\n",
    "- **enqueue(item)** - add an element to the queue\n",
    "- **dequeue()** - remove an element from the queue\n",
    "- **first()** - show the first element, without removing it\n",
    "- **full()** - check if the queue is full\n",
    "- **empty()** - check if the queue is empty\n",
    "- **size()** - return the size of the queue\n",
    " "
   ]
  },
  {
   "cell_type": "markdown",
   "id": "6772bfd7",
   "metadata": {
    "slideshow": {
     "slide_type": "subslide"
    }
   },
   "source": [
    "### Implementation"
   ]
  },
  {
   "cell_type": "code",
   "execution_count": 24,
   "id": "9ddbff15",
   "metadata": {
    "slideshow": {
     "slide_type": "subslide"
    }
   },
   "outputs": [],
   "source": [
    "# We can use the same implementation we used for Arrays\n",
    "import ctypes\n",
    "class Queue(object):\n",
    "    \"\"\"\n",
    "    Implementation of the queue data structure\n",
    "    \"\"\"\n",
    "\n",
    "    def __init__(self, n):\n",
    "        self.l = 0\n",
    "        self.n = n\n",
    "        self.queue = self._create_queue(self.n)        \n",
    "    \n",
    "    def _create_queue(self, n):\n",
    "        \"\"\"\n",
    "        Creates a new stack of capacity n\n",
    "        \"\"\"\n",
    "        return (n * ctypes.py_object)()"
   ]
  },
  {
   "cell_type": "code",
   "execution_count": 8,
   "id": "68aa81e6",
   "metadata": {
    "slideshow": {
     "slide_type": "subslide"
    }
   },
   "outputs": [],
   "source": [
    "class Queue(Queue):\n",
    "    def enqueue(self, item):\n",
    "        \"\"\"\n",
    "        Add new item to the queue\n",
    "        \"\"\"\n",
    "        if self.l == self.n:\n",
    "            raise ValueError(\"no more capacity\")\n",
    "        self.queue[self.l] = item\n",
    "        self.l += 1"
   ]
  },
  {
   "cell_type": "code",
   "execution_count": 9,
   "id": "cdae8b7e",
   "metadata": {
    "slideshow": {
     "slide_type": "subslide"
    }
   },
   "outputs": [],
   "source": [
    "class Queue(Queue):\n",
    "    def dequeue(self):\n",
    "        \"\"\"\n",
    "        Remove an element from the queue\n",
    "        \"\"\"\n",
    "        c = self.queue[0]\n",
    "        for i in range(1,self.l):\n",
    "            self.queue[i-1] = self.queue[i]\n",
    "        self.queue[self.l - 1] = ctypes.py_object\n",
    "        self.l -= 1\n",
    "        return c"
   ]
  },
  {
   "cell_type": "code",
   "execution_count": 10,
   "id": "0078ce62",
   "metadata": {
    "slideshow": {
     "slide_type": "subslide"
    }
   },
   "outputs": [],
   "source": [
    "class Queue(Queue):\n",
    "    def first(self):\n",
    "        \"\"\"\n",
    "        Show the first element of the queue\n",
    "        \"\"\"\n",
    "        return self.queue[0]"
   ]
  },
  {
   "cell_type": "code",
   "execution_count": 7,
   "id": "e394a6ef",
   "metadata": {
    "slideshow": {
     "slide_type": "subslide"
    }
   },
   "outputs": [],
   "source": [
    "class Queue(Queue):\n",
    "    def full(self):\n",
    "        \"\"\"\n",
    "        Is the queue full?\n",
    "        \"\"\"\n",
    "        if self.l == self.n:\n",
    "            return True\n",
    "        return False\n",
    "\n",
    "    def empty(self):\n",
    "        \"\"\"\n",
    "        Is the queue empty?\n",
    "        \"\"\"\n",
    "        if self.l == 0:\n",
    "            return True\n",
    "        return False\n",
    "\n",
    "    def size(self):\n",
    "        \"\"\"\n",
    "        Return size of the queue\n",
    "        \"\"\"\n",
    "        return self.l"
   ]
  },
  {
   "cell_type": "code",
   "execution_count": 23,
   "id": "0c97ffc1",
   "metadata": {
    "slideshow": {
     "slide_type": "subslide"
    }
   },
   "outputs": [],
   "source": [
    "q = Queue(10)\n",
    "q.enqueue(1)\n",
    "q.enqueue(2)\n",
    "q.enqueue(3)\n",
    "\n",
    "# q = [1, 2, 3, _, _, ...]"
   ]
  },
  {
   "cell_type": "code",
   "execution_count": 24,
   "id": "d89044e6",
   "metadata": {
    "slideshow": {
     "slide_type": "subslide"
    }
   },
   "outputs": [
    {
     "data": {
      "text/plain": [
       "1"
      ]
     },
     "execution_count": 24,
     "metadata": {},
     "output_type": "execute_result"
    }
   ],
   "source": [
    "q.dequeue()\n",
    "# q = [2, 3, _, ...]"
   ]
  },
  {
   "cell_type": "code",
   "execution_count": 25,
   "id": "5a7dfc28",
   "metadata": {
    "slideshow": {
     "slide_type": "subslide"
    }
   },
   "outputs": [
    {
     "data": {
      "text/plain": [
       "2"
      ]
     },
     "execution_count": 25,
     "metadata": {},
     "output_type": "execute_result"
    }
   ],
   "source": [
    "q.first()\n",
    "# q = [2, 3, _, ...]"
   ]
  },
  {
   "cell_type": "code",
   "execution_count": 26,
   "id": "72b51caf",
   "metadata": {
    "slideshow": {
     "slide_type": "subslide"
    }
   },
   "outputs": [
    {
     "data": {
      "text/plain": [
       "2"
      ]
     },
     "execution_count": 26,
     "metadata": {},
     "output_type": "execute_result"
    }
   ],
   "source": [
    "q.size()"
   ]
  },
  {
   "cell_type": "code",
   "execution_count": 27,
   "id": "383a705e",
   "metadata": {
    "slideshow": {
     "slide_type": "subslide"
    }
   },
   "outputs": [
    {
     "data": {
      "text/plain": [
       "2"
      ]
     },
     "execution_count": 27,
     "metadata": {},
     "output_type": "execute_result"
    }
   ],
   "source": [
    "q.dequeue()\n",
    "# q = [3, _, ...]"
   ]
  },
  {
   "cell_type": "code",
   "execution_count": 28,
   "id": "668989fa",
   "metadata": {
    "slideshow": {
     "slide_type": "subslide"
    }
   },
   "outputs": [
    {
     "data": {
      "text/plain": [
       "False"
      ]
     },
     "execution_count": 28,
     "metadata": {},
     "output_type": "execute_result"
    }
   ],
   "source": [
    "q.full()"
   ]
  },
  {
   "cell_type": "code",
   "execution_count": 29,
   "id": "c0c22baf",
   "metadata": {
    "slideshow": {
     "slide_type": "subslide"
    }
   },
   "outputs": [
    {
     "data": {
      "text/plain": [
       "False"
      ]
     },
     "execution_count": 29,
     "metadata": {},
     "output_type": "execute_result"
    }
   ],
   "source": [
    "q.empty()"
   ]
  },
  {
   "cell_type": "code",
   "execution_count": 30,
   "id": "5387c57a",
   "metadata": {
    "slideshow": {
     "slide_type": "subslide"
    }
   },
   "outputs": [
    {
     "data": {
      "text/plain": [
       "1"
      ]
     },
     "execution_count": 30,
     "metadata": {},
     "output_type": "execute_result"
    }
   ],
   "source": [
    "q.size()"
   ]
  },
  {
   "cell_type": "markdown",
   "id": "2c047a60",
   "metadata": {
    "slideshow": {
     "slide_type": "slide"
    }
   },
   "source": [
    "### Exercise \n",
    "\n",
    "Implement a queue using stacks\n",
    "- enqueue is O(1)\n",
    "- dequeue is O(N)\n",
    "- push is O(1)\n",
    "- pop is O(1)"
   ]
  },
  {
   "cell_type": "markdown",
   "id": "75fc1d1c",
   "metadata": {
    "slideshow": {
     "slide_type": "slide"
    }
   },
   "source": [
    "## Priority Queues"
   ]
  },
  {
   "cell_type": "markdown",
   "id": "ffb8a9fd",
   "metadata": {
    "slideshow": {
     "slide_type": "subslide"
    }
   },
   "source": [
    "Extension of queues:\n",
    "- Each element is represented as a key-value pair (e.g., $k, v$)\n",
    "- Each element has a priority\n",
    "- Elements with higher priority are dequeued before lower priority ones\n",
    "- Elements with the same priority are dequeued based on which was enqueued first"
   ]
  },
  {
   "cell_type": "markdown",
   "id": "94d3267f",
   "metadata": {
    "slideshow": {
     "slide_type": "slide"
    }
   },
   "source": [
    "### Operations:\n",
    "\n",
    "- **insert(v,k)** - add an element $v$ with priority $k$\n",
    "- **deleteMin()** - remove the element with the lowest $k$ (highest priority)\n",
    "- **getMin()** - show the element with the lowest $k$ (highest priority), without removing it\n",
    "- **decreaseKey(v,k)** - change the key of item $v$ in the heap to key. The new key must not be\n",
    "greater than $v$'s current key value"
   ]
  },
  {
   "cell_type": "code",
   "execution_count": 22,
   "id": "08b07a11",
   "metadata": {
    "slideshow": {
     "slide_type": "subslide"
    }
   },
   "outputs": [],
   "source": [
    "class PriorityQueue(object):\n",
    "    \"\"\"\n",
    "    Implementation of the queue data structure\n",
    "    \"\"\"\n",
    "\n",
    "    def __init__(self, n):\n",
    "        self.l = 0\n",
    "        self.n = n\n",
    "        self.queue = self._create_queue(self.n)        \n",
    "    \n",
    "    def _create_queue(self, n):\n",
    "        \"\"\"\n",
    "        Creates a new stack of capacity n\n",
    "        \"\"\"\n",
    "        return (n * ctypes.py_object)()\n",
    "    \n",
    "    def enqueue(self, item):\n",
    "        \"\"\"\n",
    "        Add new item to the queue\n",
    "        \"\"\"\n",
    "        if self.l == self.n:\n",
    "            raise ValueError(\"no more capacity\")\n",
    "        self.queue[self.l] = item\n",
    "        self.l += 1"
   ]
  },
  {
   "cell_type": "code",
   "execution_count": 25,
   "id": "0f712ef2",
   "metadata": {
    "slideshow": {
     "slide_type": "subslide"
    }
   },
   "outputs": [],
   "source": [
    "q = PriorityQueue(10)"
   ]
  },
  {
   "cell_type": "code",
   "execution_count": 26,
   "id": "0918d7e3",
   "metadata": {
    "slideshow": {
     "slide_type": "subslide"
    }
   },
   "outputs": [],
   "source": [
    "q.enqueue((1,2))\n",
    "q.enqueue((2,4))\n",
    "q.enqueue((0,1))\n",
    "q.enqueue((9,43))\n",
    "q.enqueue((1,21))"
   ]
  },
  {
   "cell_type": "code",
   "execution_count": 27,
   "id": "34fcd05d",
   "metadata": {
    "slideshow": {
     "slide_type": "subslide"
    }
   },
   "outputs": [
    {
     "data": {
      "text/plain": [
       "[(1, 2), (2, 4), (0, 1), (9, 43), (1, 21)]"
      ]
     },
     "execution_count": 27,
     "metadata": {},
     "output_type": "execute_result"
    }
   ],
   "source": [
    "q.queue[0:q.l]"
   ]
  },
  {
   "cell_type": "code",
   "execution_count": 28,
   "id": "612d9fd0",
   "metadata": {},
   "outputs": [
    {
     "data": {
      "text/plain": [
       "[(0, 1), (1, 2), (1, 21), (2, 4), (9, 43)]"
      ]
     },
     "execution_count": 28,
     "metadata": {},
     "output_type": "execute_result"
    }
   ],
   "source": [
    "sorted(q.queue[:q.l])\n"
   ]
  },
  {
   "cell_type": "code",
   "execution_count": 29,
   "id": "e7f1d22e",
   "metadata": {},
   "outputs": [],
   "source": [
    "?sorted"
   ]
  },
  {
   "cell_type": "markdown",
   "id": "339d05f4",
   "metadata": {
    "slideshow": {
     "slide_type": "slide"
    }
   },
   "source": [
    "### How do we dequeue?"
   ]
  },
  {
   "cell_type": "markdown",
   "id": "0442f283",
   "metadata": {
    "slideshow": {
     "slide_type": "subslide"
    }
   },
   "source": [
    "**We are going to need to sort the elements before we remove**\n",
    "\n",
    "Complexity?\n",
    "\n",
    "The only sorting algorithm we know (insertion-sort) has complexity $O(n^2)$\n",
    "\n",
    "Python sorts lists in $O(n log(n))$"
   ]
  },
  {
   "cell_type": "markdown",
   "id": "ae04ee18",
   "metadata": {
    "slideshow": {
     "slide_type": "subslide"
    }
   },
   "source": [
    "### Reminder insertion sort\n",
    "\n",
    "![plot](../images/insertion_sort.png)"
   ]
  },
  {
   "cell_type": "markdown",
   "id": "7eb694a2",
   "metadata": {
    "slideshow": {
     "slide_type": "slide"
    }
   },
   "source": [
    "### Should we change the implementation of enqueue?"
   ]
  },
  {
   "cell_type": "markdown",
   "id": "6731a696",
   "metadata": {
    "slideshow": {
     "slide_type": "subslide"
    }
   },
   "source": [
    "**What if we sort as we insert?**\n",
    "\n",
    "What is the cost if we run insertion sort each time we insert an element"
   ]
  },
  {
   "cell_type": "markdown",
   "id": "94319d48",
   "metadata": {
    "slideshow": {
     "slide_type": "slide"
    }
   },
   "source": [
    "### Hint homework"
   ]
  },
  {
   "cell_type": "code",
   "execution_count": 44,
   "id": "84e37f20",
   "metadata": {
    "slideshow": {
     "slide_type": "subslide"
    }
   },
   "outputs": [],
   "source": [
    "from time import time\n",
    "\n",
    "def timer_func(func):\n",
    "    def wrap_func(*args, **kwargs):\n",
    "        t1 = time()*10**12\n",
    "        result = func(*args, **kwargs)\n",
    "        t2 = time()*10**12\n",
    "        return result, t2-t1\n",
    "    return wrap_func\n",
    "\n",
    "@timer_func\n",
    "def sum2(n):\n",
    "    total = n*(n+1)//2\n",
    "    return total"
   ]
  },
  {
   "cell_type": "code",
   "execution_count": 45,
   "id": "abfb6ccf",
   "metadata": {
    "slideshow": {
     "slide_type": "subslide"
    }
   },
   "outputs": [
    {
     "name": "stdout",
     "output_type": "stream",
     "text": [
      "[1835008.0, 524288.0, 524288.0, 524288.0, 524288.0]\n"
     ]
    },
    {
     "data": {
      "image/png": "[encoded data removed]",
      "text/plain": [
       "<Figure size 432x288 with 1 Axes>"
      ]
     },
     "metadata": {
      "needs_background": "light"
     },
     "output_type": "display_data"
    }
   ],
   "source": [
    "import pandas as pd\n",
    "import matplotlib.pyplot as plt\n",
    "runtime = [sum2(x)[1] for x in [1, 10, 100, 1000, 10000]]\n",
    "print(runtime)\n",
    "\n",
    "df = pd.DataFrame(zip([1, 10, 100, 1000, 10000],runtime))\n",
    "df.columns = ['n', 't']\n",
    "df.plot(x='n', y='t', logy=True)\n",
    "plt.grid()\n"
   ]
  },
  {
   "cell_type": "markdown",
   "id": "7a5ea3c7",
   "metadata": {},
   "source": [
    "```\n",
    "def func()\n",
    "    return True\n",
    "```\n",
    "\n",
    ">>>> $T(n) = (c_1 + c_2)n$"
   ]
  },
  {
   "cell_type": "markdown",
   "id": "6737178e",
   "metadata": {
    "slideshow": {
     "slide_type": "slide"
    }
   },
   "source": [
    "## Midterm review"
   ]
  },
  {
   "cell_type": "markdown",
   "id": "46ff9768",
   "metadata": {
    "slideshow": {
     "slide_type": "subslide"
    }
   },
   "source": [
    "### True or False\n",
    "\n",
    "> $O(n)$ is faster than $O(n log(n))$\n",
    "\n",
    "> The complexity of linear search is always calculated as a lineal function\n",
    "\n",
    "> If an algorithm has complexity $\\Omega(n)$ it is also $O(n)$ "
   ]
  },
  {
   "cell_type": "markdown",
   "id": "207b3d8f",
   "metadata": {
    "slideshow": {
     "slide_type": "subslide"
    }
   },
   "source": [
    "**Given a binary array nums, return the maximum number of consecutive 1's in the array.**\n",
    "\n",
    "    Input: nums = [1,1,0,1,1,1]\n",
    "    Output: 3"
   ]
  },
  {
   "cell_type": "code",
   "execution_count": null,
   "id": "e8ba70a4",
   "metadata": {
    "slideshow": {
     "slide_type": "subslide"
    }
   },
   "outputs": [],
   "source": [
    "def conecutive_ones(nums):\n",
    "    "
   ]
  },
  {
   "cell_type": "markdown",
   "id": "8beb79bf",
   "metadata": {
    "slideshow": {
     "slide_type": "subslide"
    }
   },
   "source": [
    "**You are given an array of numbers of size (n - 1). Each element is unique and is between 1 and n. Determine what number between 1 and n is missing from the array**\n",
    "\n",
    "    Input: nums = [1,6,4,3,5]\n",
    "    Output: 2"
   ]
  },
  {
   "cell_type": "markdown",
   "id": "67ef90e5",
   "metadata": {
    "slideshow": {
     "slide_type": "subslide"
    }
   },
   "source": [
    "**We are going to use an array to draw mountains in a x-y axis. The index of the array will represent the x-axis, while the contents of the array represent the points in the y-axis. We assume that our array contains 2 peaks. A peak is defined at position $i$ if $A[i-1] < A[i]$ and $A[i] > A[i+1]$. Determine the distance between the two peaks.**\n",
    "\n",
    "    Input: A = [1, 2, 4, 5, 4, 3, 4, 7, 8, 6, 2]\n",
    "    Output: 5.83"
   ]
  },
  {
   "cell_type": "code",
   "execution_count": 19,
   "id": "f30302cb",
   "metadata": {
    "slideshow": {
     "slide_type": "subslide"
    }
   },
   "outputs": [
    {
     "data": {
      "text/plain": [
       "5.830951894845301"
      ]
     },
     "execution_count": 19,
     "metadata": {},
     "output_type": "execute_result"
    }
   ],
   "source": [
    "x = (3 - 8)**2\n",
    "y = (5 - 8)**2\n",
    "(x+y)**(0.5)"
   ]
  }
 ],
 "metadata": {
  "celltoolbar": "Slideshow",
  "kernelspec": {
   "display_name": "Python 3",
   "language": "python",
   "name": "python3"
  },
  "language_info": {
   "codemirror_mode": {
    "name": "ipython",
    "version": 3
   },
   "file_extension": ".py",
   "mimetype": "text/x-python",
   "name": "python",
   "nbconvert_exporter": "python",
   "pygments_lexer": "ipython3",
   "version": "3.8.8"
  }
 },
 "nbformat": 4,
 "nbformat_minor": 5
}
