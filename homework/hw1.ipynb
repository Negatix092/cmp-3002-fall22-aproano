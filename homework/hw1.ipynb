{
 "cells": [
  {
   "cell_type": "markdown",
   "id": "012eda26",
   "metadata": {},
   "source": [
    "# Homework 1"
   ]
  },
  {
   "cell_type": "markdown",
   "id": "6d677bee",
   "metadata": {},
   "source": [
    "### 1. Assume we implemented an algorithm that has complexity approximately $n log(n)$. How much faster is this implementation compared to one of complexity $n^2$?"
   ]
  },
  {
   "cell_type": "markdown",
   "id": "bc2655ce",
   "metadata": {},
   "source": [
    "### 2. The runtime of an algorithm is captured in the following table:\n",
    "\n",
    "As precissely as possible, estimate the function that describes the growth of the runtime \n",
    "\n",
    "|$n$  | runtime -- $T(n)$|\n",
    "|---- | ----- |\n",
    "|1000|0.0|\n",
    "|2000|0.02|\n",
    "|4000|0.2|\n",
    "|8000|0.6|\n",
    "|16000|2.6|\n",
    "|32000|10.4|\n",
    "|64000|41.6|"
   ]
  },
  {
   "cell_type": "markdown",
   "id": "0e28457e",
   "metadata": {},
   "source": [
    "### 3. By estimating the number of operations as a function of $n$, estimate the complexity of the following function\n",
    "\n",
    "```\n",
    "def func1(n):\n",
    "    A = range(0,n)\n",
    "    sum = 0\n",
    "    i = 0\n",
    "    for x in A[i:]:\n",
    "        i += 1\n",
    "        for j in range(i, len(A)):\n",
    "            y = A[j]\n",
    "            k = j\n",
    "            while k < len(A):\n",
    "                z = A[k]\n",
    "                k = 2*k\n",
    "                if x + y <= z:\n",
    "                    sum += 1\n",
    "    return sum\n",
    "```"
   ]
  },
  {
   "cell_type": "markdown",
   "id": "60569048",
   "metadata": {},
   "source": [
    "### 4. From class, remember the code we use to get the sum of the first $n$ positive integers:\n",
    "\n",
    "```\n",
    "def sum1(n):\n",
    "    total = 0\n",
    "    for i in range(1, n+1):\n",
    "        total += i\n",
    "    return total\n",
    "```\n",
    "\n",
    "Now consider a different function that does the same thing.\n",
    "\n",
    "```\n",
    "def sum2(n): \n",
    "    total = n*(n+1)//2\n",
    "    return total\n",
    "```\n",
    "\n",
    "1. Run the two functions and make sure that they return the same outputs. Use $n = 5, 8, 103, 527$\n",
    "2. Use Python time library to estimate the runtime for inputs of $n = [1, 10, 10^2, 10^3, 10^4, 10^5, 10^6, 10^7, 10^8, 10^9]$\n",
    "3. Plot the runtime as a function of $n$ for both functions in the same figure. \n",
    "    - Use different line colors and markers to help distinguish between the two curves. \n",
    "4. Analytically estime the runtime functions for the functions `sum1` and `sum2`. Call them $T_1(n)$ and $T_2(n)$.\n",
    "    - Note that the times obtained in your computer will be different to the ones shown in class since the speed and memory of the computers used to run the code are likely different\n",
    "5. How long will it take to run the code for $n = 10^{100}$ using `sum1` and `sum2`? What are your main impressions about the difference?\n",
    "\n",
    "**Hint:** Use and modify the code from the slides to get and plot the runtime\n"
   ]
  },
  {
   "cell_type": "markdown",
   "id": "0b68cc5a",
   "metadata": {},
   "source": [
    "### 5. Prove that the running time of an algorithm is $\\Theta(g(n))$ if and only if its worst-case running time is $O(g(n))$ and its best-case running time is $\\Omega(g(n))$"
   ]
  },
  {
   "cell_type": "markdown",
   "id": "cbe48a31",
   "metadata": {},
   "source": [
    "### 6.  Sort the following functions in decreasing order of asymptotic complexity ($O(f(n))$):\n",
    "\n",
    "- $f_1(n) = \\sqrt{n}$\n",
    "- $f_2(n) = n^3$\n",
    "- $f_3(n) = {n\\choose 4}$\n",
    "- $f_4(n) = \\sum_{i=2}^n (i-1)$"
   ]
  },
  {
   "cell_type": "markdown",
   "id": "7e6a81f1",
   "metadata": {},
   "source": [
    "### 7. Implement the methods of the class `Array` that deal with deletion of elements. Consider the 3 cases we considered in class."
   ]
  },
  {
   "cell_type": "code",
   "execution_count": null,
   "id": "21de5ea1",
   "metadata": {},
   "outputs": [],
   "source": []
  }
 ],
 "metadata": {
  "kernelspec": {
   "display_name": "Python 3",
   "language": "python",
   "name": "python3"
  },
  "language_info": {
   "codemirror_mode": {
    "name": "ipython",
    "version": 3
   },
   "file_extension": ".py",
   "mimetype": "text/x-python",
   "name": "python",
   "nbconvert_exporter": "python",
   "pygments_lexer": "ipython3",
   "version": "3.8.8"
  }
 },
 "nbformat": 4,
 "nbformat_minor": 5
}
