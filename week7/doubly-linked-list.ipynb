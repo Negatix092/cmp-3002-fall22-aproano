{
 "cells": [
  {
   "cell_type": "code",
   "execution_count": 1,
   "id": "5acb4fe5",
   "metadata": {
    "slideshow": {
     "slide_type": "skip"
    }
   },
   "outputs": [],
   "source": [
    "import time\n",
    "import pandas as pd\n",
    "import numpy as np\n",
    "import matplotlib.pyplot as plt\n",
    "%matplotlib inline  "
   ]
  },
  {
   "cell_type": "markdown",
   "id": "a41bb501",
   "metadata": {
    "slideshow": {
     "slide_type": "slide"
    }
   },
   "source": [
    "# CMP 3002 \n"
   ]
  },
  {
   "cell_type": "markdown",
   "id": "c6f2ffbc",
   "metadata": {
    "slideshow": {
     "slide_type": "slide"
    }
   },
   "source": [
    "### Housekeeping\n",
    "\n",
    "- Project"
   ]
  },
  {
   "cell_type": "markdown",
   "id": "ebe527bf",
   "metadata": {
    "slideshow": {
     "slide_type": "slide"
    }
   },
   "source": [
    "## Doubly Linked Lists\n",
    "\n",
    "- Similar to arrays, linked list is a linear data structure\n",
    "- Each element is a separate object\n",
    "- All objects are linked together by a reference field in each element\n",
    "\n",
    "\n",
    "<img src=\"../images/doubly_linked_list.png\" alt=\"drawing\" style=\"width:400px;\"/>\n",
    "\n",
    "Each node has three parts:\n",
    "- value\n",
    "- reference field to link to the next node\n",
    "- reference field to link to the previous node"
   ]
  },
  {
   "cell_type": "markdown",
   "id": "15c61a38",
   "metadata": {
    "slideshow": {
     "slide_type": "subslide"
    }
   },
   "source": [
    "### Advantages\n",
    "\n",
    "1. It can be traversed in both forward and backward direction\n",
    "2. Delete operation is more efficient if pointer to the node to be deleted is passed \n",
    "3. We can quickly insert a new node before a given node\n"
   ]
  },
  {
   "cell_type": "markdown",
   "id": "cc247fac",
   "metadata": {
    "slideshow": {
     "slide_type": "subslide"
    }
   },
   "source": [
    "### Disadvantages\n",
    "\n",
    "1. Extra space per node\n",
    "2. Extra pointer to be maintained for each operation\n"
   ]
  },
  {
   "cell_type": "code",
   "execution_count": 1,
   "id": "a806ba4b",
   "metadata": {
    "slideshow": {
     "slide_type": "subslide"
    }
   },
   "outputs": [],
   "source": [
    "class Node:\n",
    "    \"\"\"\n",
    "    Implementation of a node\n",
    "    \"\"\"\n",
    "    def __init__(self, val=None):\n",
    "        self.val = val\n",
    "        self.next_node = None\n",
    "        self.prev_node = None\n",
    "        \n",
    "class Doubly_linked_list:\n",
    "    \"\"\"\n",
    "    Implementation of a singly linked list\n",
    "    \"\"\"\n",
    "    def __init__(self, head_node=None):\n",
    "        self.head_node = head_node"
   ]
  },
  {
   "cell_type": "markdown",
   "id": "f365a325",
   "metadata": {
    "slideshow": {
     "slide_type": "slide"
    }
   },
   "source": [
    "### Traverse "
   ]
  },
  {
   "cell_type": "code",
   "execution_count": 2,
   "id": "fec47aa1",
   "metadata": {
    "slideshow": {
     "slide_type": "subslide"
    }
   },
   "outputs": [],
   "source": [
    "class Doubly_linked_list(Doubly_linked_list):\n",
    "    def list_traversed(self):\n",
    "        node = self.head_node\n",
    "        while node:\n",
    "            print(node.val)\n",
    "            node = node.next_node"
   ]
  },
  {
   "cell_type": "markdown",
   "id": "9e868a9d",
   "metadata": {
    "slideshow": {
     "slide_type": "slide"
    }
   },
   "source": [
    "### Insert\n",
    "\n",
    "1. At the front\n",
    "2. At the end\n",
    "3. After a given node\n",
    "4. Before a given node"
   ]
  },
  {
   "cell_type": "markdown",
   "id": "abe35543",
   "metadata": {
    "slideshow": {
     "slide_type": "subslide"
    }
   },
   "source": [
    "### At the front\n",
    "\n",
    "- Update the head of the list\n",
    "- Add the next reference to the old head\n",
    "- Add the prev reference from the old head to the new head"
   ]
  },
  {
   "cell_type": "code",
   "execution_count": 2,
   "id": "07be2d02",
   "metadata": {
    "slideshow": {
     "slide_type": "subslide"
    }
   },
   "outputs": [],
   "source": [
    "class Doubly_linked_list(Doubly_linked_list):\n",
    "    def insert_at_start(self, data):\n",
    "        \"\"\"\n",
    "        Insert a node at the start of the list\n",
    "        \"\"\"    \n",
    "        if self.head_node is None:\n",
    "            new_node = Node(data)\n",
    "            self.head_node = new_node\n",
    "            return\n",
    "        new_node = Node(data)\n",
    "        new_node.next_node = self.head_node\n",
    "        self.head_node.prev_node = new_node\n",
    "        self.head_node = new_node"
   ]
  },
  {
   "cell_type": "markdown",
   "id": "a4802c62",
   "metadata": {
    "slideshow": {
     "slide_type": "subslide"
    }
   },
   "source": [
    "### At the end\n",
    "\n",
    "- Find the tail of the list\n",
    "- Insert the node"
   ]
  },
  {
   "cell_type": "code",
   "execution_count": 8,
   "id": "955936ee",
   "metadata": {
    "slideshow": {
     "slide_type": "subslide"
    }
   },
   "outputs": [],
   "source": [
    "class Doubly_linked_list(Doubly_linked_list):\n",
    "    def insert_at_end(self, data):\n",
    "        \"\"\"\n",
    "        Insert a node at the end of the list\n",
    "        \"\"\"    \n",
    "        if self.head_node is None:\n",
    "            new_node = Node(data)\n",
    "            self.head_node = new_node\n",
    "            return\n",
    "        node = self.head_node\n",
    "        while node.next_node:\n",
    "            node = node.next_node\n",
    "        new_node = Node(data)\n",
    "        new_node.prev_node = node\n",
    "        node.next_node = new_node"
   ]
  },
  {
   "cell_type": "markdown",
   "id": "5d9388f9",
   "metadata": {
    "slideshow": {
     "slide_type": "subslide"
    }
   },
   "source": [
    "### After a given node\n",
    "\n",
    "- Find the node\n",
    "- Insert the new node"
   ]
  },
  {
   "cell_type": "code",
   "execution_count": 9,
   "id": "ad2d251a",
   "metadata": {
    "slideshow": {
     "slide_type": "subslide"
    }
   },
   "outputs": [],
   "source": [
    "class Doubly_linked_list(Doubly_linked_list):\n",
    "    def insert_after_node(self, value, data):\n",
    "        \"\"\"\n",
    "        Insert a node after a given node\n",
    "        \"\"\"        \n",
    "        if self.head_node is None:\n",
    "            new_node = Node(data)\n",
    "            self.head_node = new_node\n",
    "            return\n",
    "        n = self.head_node\n",
    "        while n.next_node:\n",
    "            if n.val == value:\n",
    "                break\n",
    "            n = n.next_node\n",
    "        if not n:\n",
    "            raise ValueError(\"node not found\")\n",
    "\n",
    "        new_node = Node(data)\n",
    "        new_node.next_node = n.next_node\n",
    "        n.next_node.prev_node = new_node\n",
    "        n.next_node = new_node\n",
    "        new_node.prev_node = n\n"
   ]
  },
  {
   "cell_type": "code",
   "execution_count": null,
   "id": "4f0675f9",
   "metadata": {},
   "outputs": [],
   "source": [
    "A -> C\n",
    "  <-\n",
    "    \n",
    "A ->  new -> C\n",
    "  <-      <- "
   ]
  },
  {
   "cell_type": "markdown",
   "id": "c1e5564a",
   "metadata": {
    "slideshow": {
     "slide_type": "subslide"
    }
   },
   "source": [
    "### Before a given node\n",
    "\n",
    "- Find the node\n",
    "- Insert the new node"
   ]
  },
  {
   "cell_type": "code",
   "execution_count": 10,
   "id": "d259c99c",
   "metadata": {
    "slideshow": {
     "slide_type": "subslide"
    }
   },
   "outputs": [],
   "source": [
    "class Doubly_linked_list(Doubly_linked_list):\n",
    "    def insert_before_node(self, value, data):\n",
    "        \"\"\"\n",
    "        Insert a node before a given node\n",
    "        \"\"\"        \n",
    "        if self.head_node is None:\n",
    "            new_node = Node(data)\n",
    "            self.head_node = new_node\n",
    "            return\n",
    "        n = self.head_node\n",
    "        while n.next_node:\n",
    "            if n.val == value:\n",
    "                break\n",
    "            n = n.next_node\n",
    "        if not n:\n",
    "            raise ValueError(\"node not found\")\n",
    "\n",
    "        new_node = Node(data)\n",
    "        new_node.prev_node = n.prev_node\n",
    "        n.prev_node = new_node\n",
    "        new_node.next_node = n\n",
    "        new_node.prev_node.next_node = new_node\n",
    "    \n",
    "    \n",
    "C -> A\n",
    "  <-\n",
    "    \n",
    "C ->  new -> A\n",
    "  <-      <- "
   ]
  },
  {
   "cell_type": "markdown",
   "id": "ca149ef7",
   "metadata": {
    "slideshow": {
     "slide_type": "slide"
    }
   },
   "source": [
    "### Delete\n",
    "\n",
    "1. Head node\n",
    "2. Tail node\n",
    "3. Middle node by value"
   ]
  },
  {
   "cell_type": "markdown",
   "id": "6503a51f",
   "metadata": {
    "slideshow": {
     "slide_type": "subslide"
    }
   },
   "source": [
    "### Implement in groups "
   ]
  }
 ],
 "metadata": {
  "celltoolbar": "Slideshow",
  "kernelspec": {
   "display_name": "Python 3",
   "language": "python",
   "name": "python3"
  },
  "language_info": {
   "codemirror_mode": {
    "name": "ipython",
    "version": 3
   },
   "file_extension": ".py",
   "mimetype": "text/x-python",
   "name": "python",
   "nbconvert_exporter": "python",
   "pygments_lexer": "ipython3",
   "version": "3.8.8"
  }
 },
 "nbformat": 4,
 "nbformat_minor": 5
}
